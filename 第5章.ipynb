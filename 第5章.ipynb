{
 "cells": [
  {
   "cell_type": "markdown",
   "metadata": {},
   "source": [
    "# 第五章"
   ]
  },
  {
   "cell_type": "code",
   "execution_count": 1,
   "metadata": {},
   "outputs": [],
   "source": [
    "import MeCab\n",
    "import CaboCha"
   ]
  },
  {
   "cell_type": "code",
   "execution_count": 2,
   "metadata": {},
   "outputs": [],
   "source": [
    "import pydot"
   ]
  },
  {
   "cell_type": "code",
   "execution_count": 3,
   "metadata": {},
   "outputs": [],
   "source": [
    "import re"
   ]
  },
  {
   "cell_type": "code",
   "execution_count": 4,
   "metadata": {},
   "outputs": [],
   "source": [
    "m = MeCab.Tagger(\"-Ochasen\")\n",
    "c = CaboCha.Parser()"
   ]
  },
  {
   "cell_type": "code",
   "execution_count": 232,
   "metadata": {},
   "outputs": [],
   "source": [
    "with open(\"neko.txt\", \"r\", encoding=\"utf_8\") as f:\n",
    "    s = f.read()"
   ]
  },
  {
   "cell_type": "markdown",
   "metadata": {},
   "source": [
    "## 40"
   ]
  },
  {
   "cell_type": "code",
   "execution_count": 6,
   "metadata": {},
   "outputs": [],
   "source": [
    "class Morph():\n",
    "    def __init__(self, data):\n",
    "        self.surface = data[0]\n",
    "        self.pos = data[1]\n",
    "        self.pos1 = data[2]\n",
    "        if self.pos in ('動詞', '助動詞', '形容詞'):\n",
    "            self.base = data[7]\n",
    "        else:\n",
    "            self.base = data[0]\n",
    "    \n",
    "    def __str__(self):\n",
    "        return self.surface"
   ]
  },
  {
   "cell_type": "markdown",
   "metadata": {},
   "source": [
    "## 41"
   ]
  },
  {
   "cell_type": "markdown",
   "metadata": {},
   "source": [
    "そもそも文ごとに分けるのはこっちでやれってことか…？\n",
    "たぶんそう"
   ]
  },
  {
   "cell_type": "code",
   "execution_count": 34,
   "metadata": {},
   "outputs": [],
   "source": [
    "class Chunk():\n",
    "    def __init__(self, identifier, dst):\n",
    "        self.morphs = []\n",
    "        self.srcs = []\n",
    "        self.dst = dst\n",
    "        self.id = identifier\n",
    "    \n",
    "    def __str__(self):\n",
    "        return \"\".join(map(lambda x: str(x).rstrip(\"、\").rstrip(\"。\"), self.morphs))\n",
    "\n",
    "    def append_morph(self, morph):\n",
    "        self.morphs.append(morph)\n",
    "        \n",
    "    def append_src(self, src):\n",
    "        self.srcs.append(src)\n",
    "        \n",
    "    def has_noun(self):\n",
    "        for m in self.morphs:\n",
    "            if m.pos == '名詞':\n",
    "                return True\n",
    "        return False\n",
    "    \n",
    "    def has_verb(self):\n",
    "        for m in self.morphs:\n",
    "            if m.pos == \"動詞\":\n",
    "                return True\n",
    "        return False\n",
    "    \n",
    "    def get_verb(self):\n",
    "        for m in self.morphs:\n",
    "            if m.pos == '動詞':\n",
    "                return m\n",
    "        return None\n",
    "\n",
    "    def get_postpos(self):\n",
    "        for m in self.morphs:\n",
    "            if m.pos == '助詞':\n",
    "                return m\n",
    "        return None"
   ]
  },
  {
   "cell_type": "code",
   "execution_count": 233,
   "metadata": {},
   "outputs": [],
   "source": [
    "full = []\n",
    "sentence = []\n",
    "cur_chunk = None\n",
    "\n",
    "for sent_raw in re.split(r\"\\u3000|\\n\", s):\n",
    "    if not sent_raw:\n",
    "        continue\n",
    "        \n",
    "    tree = c.parse(sent_raw)\n",
    "    sentence = []\n",
    "    for line in tree.toString(CaboCha.FORMAT_LATTICE).split(\"\\n\"):\n",
    "        if line == \"EOS\":\n",
    "            break\n",
    "        \n",
    "        data = re.split(r\"[\\t, ]\", line)\n",
    "        if data[0] == '*':\n",
    "            if int(data[1]) > 0:\n",
    "                sentence.append(cur_chunk)\n",
    "            cur_chunk = None\n",
    "            tar = int(data[2].rstrip(\"D\")) \n",
    "            cur_chunk = Chunk(int(data[1]), tar if tar > 0 else None)\n",
    "            continue\n",
    "        \n",
    "        morph = Morph(data)\n",
    "        cur_chunk.morphs.append(morph)\n",
    "    \n",
    "    sentence.append(cur_chunk)\n",
    "    for chunk in sentence:\n",
    "        if chunk.dst:\n",
    "            sentence[chunk.dst].append_src(chunk.id)\n",
    "    \n",
    "    full.append(sentence)   "
   ]
  },
  {
   "cell_type": "markdown",
   "metadata": {},
   "source": [
    "うまくいっているかわからんけどなんかできた"
   ]
  },
  {
   "cell_type": "markdown",
   "metadata": {},
   "source": [
    "## 41, 42"
   ]
  },
  {
   "cell_type": "code",
   "execution_count": 9,
   "metadata": {},
   "outputs": [
    {
     "name": "stdout",
     "output_type": "stream",
     "text": [
      "吾輩は\t猫である\n",
      "名前は\t無い\n",
      "まだ\t無い\n",
      "どこで\t生れたか\n",
      "生れたか\tつかぬ\n",
      "とんと\tつかぬ\n",
      "見当が\tつかぬ\n",
      "何でも\t薄暗い\n",
      "薄暗い\t所で\n",
      "じめじめした\t所で\n",
      "所で\t泣いて\n",
      "ニャーニャー\t泣いて\n",
      "泣いて\t記憶している\n",
      "いた事だけは\t記憶している\n",
      "吾輩は\t見た\n",
      "ここで\t始めて\n",
      "始めて\t人間という\n",
      "人間という\tものを\n",
      "ものを\t見た\n",
      "しかも\t種族であったそうだ\n",
      "あとで\t聞くと\n",
      "聞くと\t種族であったそうだ\n",
      "それは\t種族であったそうだ\n",
      "書生という\t人間中で\n",
      "人間中で\t種族であったそうだ\n",
      "一番\t獰悪な\n",
      "獰悪な\t種族であったそうだ\n",
      "この\t書生というのは\n",
      "書生というのは\t話である\n",
      "時々\t捕えて\n",
      "我々を\t捕えて\n",
      "捕えて\t煮て\n",
      "煮て\t食うという\n",
      "食うという\t話である\n"
     ]
    }
   ],
   "source": [
    "for sent in full[:8]:\n",
    "    for chunk in sent:\n",
    "        if chunk.dst:\n",
    "            print(\"{}\\t{}\".format(chunk, sent[chunk.dst]))"
   ]
  },
  {
   "cell_type": "markdown",
   "metadata": {},
   "source": [
    "## 43"
   ]
  },
  {
   "cell_type": "code",
   "execution_count": 10,
   "metadata": {},
   "outputs": [
    {
     "name": "stdout",
     "output_type": "stream",
     "text": [
      "吾輩は\t猫である\n",
      "名前は\t無い\n",
      "まだ\t無い\n",
      "どこで\t生れたか\n",
      "生れたか\tつかぬ\n",
      "とんと\tつかぬ\n",
      "見当が\tつかぬ\n",
      "何でも\t薄暗い\n",
      "薄暗い\t所で\n",
      "じめじめした\t所で\n",
      "所で\t泣いて\n",
      "ニャーニャー\t泣いて\n",
      "泣いて\t記憶している\n",
      "いた事だけは\t記憶している\n",
      "吾輩は\t見た\n",
      "ここで\t始めて\n",
      "始めて\t人間という\n",
      "人間という\tものを\n",
      "ものを\t見た\n",
      "しかも\t種族であったそうだ\n",
      "あとで\t聞くと\n",
      "聞くと\t種族であったそうだ\n",
      "それは\t種族であったそうだ\n",
      "書生という\t人間中で\n",
      "人間中で\t種族であったそうだ\n",
      "一番\t獰悪な\n",
      "獰悪な\t種族であったそうだ\n",
      "この\t書生というのは\n",
      "書生というのは\t話である\n",
      "時々\t捕えて\n",
      "我々を\t捕えて\n",
      "捕えて\t煮て\n",
      "煮て\t食うという\n",
      "食うという\t話である\n"
     ]
    }
   ],
   "source": [
    "for sent in full[:8]:\n",
    "    for chunk in sent:\n",
    "        if chunk.dst and chunk.has_noun and sent[chunk.dst].has_verb:\n",
    "            print(\"{}\\t{}\".format(chunk, sent[chunk.dst]))"
   ]
  },
  {
   "cell_type": "markdown",
   "metadata": {},
   "source": [
    "## 44"
   ]
  },
  {
   "cell_type": "code",
   "execution_count": 11,
   "metadata": {},
   "outputs": [],
   "source": [
    "graph = pydot.Dot(graph_type='graph')"
   ]
  },
  {
   "cell_type": "code",
   "execution_count": 12,
   "metadata": {},
   "outputs": [
    {
     "data": {
      "text/plain": [
       "<pydot.Dot at 0x7f7a8cef6ef0>"
      ]
     },
     "execution_count": 12,
     "metadata": {},
     "output_type": "execute_result"
    }
   ],
   "source": [
    "graph"
   ]
  },
  {
   "cell_type": "code",
   "execution_count": 13,
   "metadata": {},
   "outputs": [],
   "source": [
    "from IPython.display import Image"
   ]
  },
  {
   "cell_type": "code",
   "execution_count": 14,
   "metadata": {
    "collapsed": true
   },
   "outputs": [
    {
     "data": {
      "image/png": "[encoded data removed]",
      "text/plain": [
       "<IPython.core.display.Image object>"
      ]
     },
     "execution_count": 14,
     "metadata": {},
     "output_type": "execute_result"
    }
   ],
   "source": [
    "for sent in full[:10]:\n",
    "    graph = pydot.Dot(graph_type='graph')\n",
    "    for chunk in sent:\n",
    "        if chunk.dst:\n",
    "            graph.add_edge(pydot.Edge(str(chunk), str(sent[chunk.dst])))\n",
    "Image(graph.create_png())"
   ]
  },
  {
   "cell_type": "markdown",
   "metadata": {},
   "source": [
    "## 45"
   ]
  },
  {
   "cell_type": "code",
   "execution_count": 91,
   "metadata": {},
   "outputs": [],
   "source": [
    "verbs = {}\n",
    "\n",
    "def add_verb(verb, pp):\n",
    "    if not verb in verbs:\n",
    "        verbs[verb] = {}\n",
    "    \n",
    "    if not pp in verbs[verb]:\n",
    "        verbs[verb][pp] = 0\n",
    "    \n",
    "    verbs[verb][pp] += 1\n",
    "    return"
   ]
  },
  {
   "cell_type": "code",
   "execution_count": 92,
   "metadata": {},
   "outputs": [],
   "source": [
    "for sentence in full:\n",
    "    for chunk in sentence:\n",
    "        if not chunk.has_verb():\n",
    "            continue\n",
    "        \n",
    "        base = chunk.get_verb().base\n",
    "        # print(base, end=\" \")\n",
    "        for src in chunk.srcs:\n",
    "            pp = sentence[src].get_postpos()\n",
    "            if pp:\n",
    "                add_verb(str(base), str(pp))\n",
    "                # print(pp, end=\" \")\n",
    "            \n",
    "        # print()"
   ]
  },
  {
   "cell_type": "markdown",
   "metadata": {},
   "source": [
    "ファイル出力"
   ]
  },
  {
   "cell_type": "code",
   "execution_count": 70,
   "metadata": {},
   "outputs": [],
   "source": [
    "with open(\"verb_pattern.txt\", \"w\", encoding=\"utf_8\") as f:\n",
    "    for i, v in verbs.items():\n",
    "        print(\" \".join([i] + list(map(lambda x: x[0], sorted(v.items(), key=lambda x: -x[1])))), file=f)"
   ]
  },
  {
   "cell_type": "markdown",
   "metadata": {},
   "source": [
    "コーパス中で頻出する述語と格パターンの組み合わせ"
   ]
  },
  {
   "cell_type": "code",
   "execution_count": 73,
   "metadata": {},
   "outputs": [],
   "source": [
    "verb_jointed = {\"{} {}\".format(pp, v):value for v, pats in verbs.items() for pp, value in pats.items() }"
   ]
  },
  {
   "cell_type": "code",
   "execution_count": 80,
   "metadata": {},
   "outputs": [
    {
     "data": {
      "text/plain": [
       "[('を する', 1302),\n",
       " ('と 云う', 846),\n",
       " ('に する', 782),\n",
       " ('て する', 586),\n",
       " ('に なる', 542),\n",
       " ('が する', 515),\n",
       " ('が ある', 492),\n",
       " ('は する', 479),\n",
       " ('と する', 464),\n",
       " ('て 見る', 397)]"
      ]
     },
     "execution_count": 80,
     "metadata": {},
     "output_type": "execute_result"
    }
   ],
   "source": [
    "sorted(verb_jointed.items(), key=lambda x: -x[1])[:10]"
   ]
  },
  {
   "cell_type": "markdown",
   "metadata": {},
   "source": [
    "「する」「見る」「与える」の格パターン"
   ]
  },
  {
   "cell_type": "code",
   "execution_count": 81,
   "metadata": {},
   "outputs": [],
   "source": [
    "from pprint import pprint"
   ]
  },
  {
   "cell_type": "code",
   "execution_count": 85,
   "metadata": {
    "collapsed": true
   },
   "outputs": [
    {
     "name": "stdout",
     "output_type": "stream",
     "text": [
      "する\n",
      "[('を', 1302),\n",
      " ('に', 782),\n",
      " ('て', 586),\n",
      " ('が', 515),\n",
      " ('は', 479),\n",
      " ('と', 464),\n",
      " ('で', 248),\n",
      " ('から', 237),\n",
      " ('も', 150),\n",
      " ('の', 100)]\n",
      "見る\n",
      "[('て', 397),\n",
      " ('を', 173),\n",
      " ('は', 55),\n",
      " ('から', 51),\n",
      " ('で', 41),\n",
      " ('が', 41),\n",
      " ('に', 39),\n",
      " ('と', 32),\n",
      " ('か', 11),\n",
      " ('も', 11)]\n",
      "与える\n",
      "[('を', 16),\n",
      " ('に', 13),\n",
      " ('て', 8),\n",
      " ('は', 6),\n",
      " ('け', 1),\n",
      " ('で', 1),\n",
      " ('だけ', 1),\n",
      " ('じゃあ', 1),\n",
      " ('に対して', 1),\n",
      " ('も', 1)]\n"
     ]
    }
   ],
   "source": [
    "for tar in ['する', '見る', '与える']:\n",
    "    print(tar)\n",
    "    pprint(sorted(verbs[tar].items(), key=lambda x: -x[1])[:10])"
   ]
  },
  {
   "cell_type": "markdown",
   "metadata": {},
   "source": [
    "## 46"
   ]
  },
  {
   "cell_type": "code",
   "execution_count": 95,
   "metadata": {},
   "outputs": [],
   "source": [
    "def obj_incr(obj, key):\n",
    "    if not key in obj:\n",
    "        obj[key] = 0\n",
    "    \n",
    "    obj[key] += 1\n",
    "    return"
   ]
  },
  {
   "cell_type": "code",
   "execution_count": 104,
   "metadata": {
    "scrolled": true
   },
   "outputs": [
    {
     "name": "stdout",
     "output_type": "stream",
     "text": [
      "一\n",
      "吾輩は猫である\n",
      "名前はまだ無い\n",
      "どこで生れたかとんと見当がつかぬ\n",
      "生れる\tで\tどこで\n",
      "つく\tか が\t生れたか 見当が\n",
      "何でも薄暗いじめじめした所でニャーニャー泣いていた事だけは記憶している\n",
      "する\t\t\n",
      "泣く\tで\t所で\n",
      "する\tて だけ\t泣いて いた事だけは\n",
      "吾輩はここで始めて人間というものを見た\n",
      "始める\tで\tここで\n",
      "見る\tは を\t吾輩は ものを\n",
      "しかもあとで聞くとそれは書生という人間中で一番獰悪な種族であったそうだ\n",
      "聞く\tで\tあとで\n",
      "この書生というのは時々我々を捕えて煮て食うという話である\n",
      "捕える\tを\t我々を\n",
      "煮る\tて\t捕えて\n",
      "食う\tて\t煮て\n",
      "しかしその当時は何という考もなかったから別段恐しいとも思わなかった\n",
      "思う\tから\tなかったから\n",
      "ただ彼の掌に載せられてスーと持ち上げられた時何だかフワフワした感じがあったばかりである\n",
      "載せる\tに\t掌に\n",
      "持ち上げる\tて と\t載せられて スーと\n",
      "する\t\t\n",
      "ある\tが\t感じが\n",
      "掌の上で少し落ちついて書生の顔を見たのがいわゆる人間というものの見始であろう\n",
      "落ちつく\tで\t上で\n",
      "見る\tて を\t落ちついて 顔を\n",
      "見る\tの\tものの\n",
      "この時妙なものだと思った感じが今でも残っている\n",
      "思う\tと\tものだと\n",
      "残る\tが でも\t感じが 今でも\n",
      "第一毛をもって装飾されべきはずの顔がつるつるしてまるで薬缶だ\n",
      "する\tをもって\t第一毛をもって\n",
      "する\tが\t顔が\n",
      "その後猫にもだいぶ逢ったがこんな片輪には一度も出会わした事がない\n",
      "逢う\tに\t猫にも\n",
      "出会う\tも\t一度も\n",
      "のみならず顔の真中があまりに突起している\n",
      "のむ\t\t\n",
      "する\tが\t真中が\n",
      "そうしてその穴の中から時々ぷうぷうと煙を吹く\n",
      "吹く\tから を\t中から ぷうぷうと煙を\n",
      "どうも咽せぽくて実に弱った\n",
      "する\t\t\n",
      "弱る\tて\t咽せぽくて\n",
      "これが人間の飲む煙草というものである事はようやくこの頃知った\n",
      "飲む\tの\t人間の\n",
      "知る\tは\t事は\n",
      "この書生の掌の裏でしばらくはよい心持に坐っておったがしばらくすると非常な速力で運転し始めた\n",
      "坐る\tで に\t裏で 心持に\n",
      "おる\tて\t坐って\n",
      "する\t\t\n",
      "する\tが と で\tおったが すると 速力で\n",
      "書生が動くのか自分だけが動くのか分らないが無暗に眼が廻る\n",
      "動く\tが\t書生が\n",
      "動く\tか だけ\t動くのか 自分だけが\n",
      "分る\tか\t動くのか\n",
      "廻る\tが\t分らないが 眼が\n"
     ]
    }
   ],
   "source": [
    "for sentence in full[:20]:\n",
    "    \n",
    "    print(\"\".join([str(c) for c in sentence]))\n",
    "    \n",
    "    for chunk in sentence:\n",
    "        if not chunk.has_verb():\n",
    "            continue\n",
    "        \n",
    "        base = chunk.get_verb().base\n",
    "        this_verbs = {}\n",
    "        this_chunks = {}\n",
    "        \n",
    "        for src in chunk.srcs:\n",
    "            pp = sentence[src].get_postpos()\n",
    "            if pp:\n",
    "                obj_incr(this_verbs, str(pp))\n",
    "                obj_incr(this_chunks, str(sentence[src]))\n",
    "        \n",
    "        print(base, end=\"\\t\")\n",
    "        print(\" \".join(map(lambda x: x[0], sorted(this_verbs.items(), key=lambda x: -x[1]))), end=\"\\t\")\n",
    "        print(\" \".join(map(lambda x: x[0], sorted(this_chunks.items(), key=lambda x: -x[1]))))\n",
    "        \n",
    "    if not this_verbs:\n",
    "        continue\n"
   ]
  },
  {
   "cell_type": "markdown",
   "metadata": {},
   "source": [
    "コードきたねえな"
   ]
  },
  {
   "cell_type": "markdown",
   "metadata": {},
   "source": [
    "## 47"
   ]
  },
  {
   "cell_type": "code",
   "execution_count": 135,
   "metadata": {
    "scrolled": false
   },
   "outputs": [],
   "source": [
    "with open(\"47_mining.txt\", \"w\", encoding=\"utf_8\") as f:\n",
    "    for sentence in full:\n",
    "        for ci, chunk in enumerate(sentence):\n",
    "            for i, morph in enumerate(chunk.morphs):\n",
    "                if morph.pos1 == \"サ変接続\" and str(chunk)[-1] == \"を\" and not morph == \"--\":\n",
    "                    if sentence[chunk.dst].has_verb():\n",
    "                        print(str(chunk) + sentence[chunk.dst].get_verb().base, file=f, end=\"\\t\")\n",
    "                        joins = []\n",
    "                        for src in sentence[chunk.dst].srcs:\n",
    "                            if not src == ci:\n",
    "                                joins.append([str(sentence[src].morphs[-1]), str(sentence[src])])\n",
    "                        print(\" \".join(map(lambda x: x[0], joins)), file=f, end=\"\\t\")\n",
    "                        print(\" \".join(map(lambda x: x[1], joins)), file=f)"
   ]
  },
  {
   "cell_type": "markdown",
   "metadata": {},
   "source": [
    "頻出"
   ]
  },
  {
   "cell_type": "code",
   "execution_count": 142,
   "metadata": {},
   "outputs": [],
   "source": [
    "with open(\"47_mining.txt\", \"r\", encoding=\"utf_8\") as f:\n",
    "    s = f.read()\n",
    "\n",
    "units = {}    \n",
    "\n",
    "for line in s.split(\"\\n\"):\n",
    "    line_sep = line.split(\"\\t\")\n",
    "    pred = line_sep[0]\n",
    "    if not pred in units:\n",
    "        units[pred] = 0\n",
    "    units[pred] += 1"
   ]
  },
  {
   "cell_type": "code",
   "execution_count": 145,
   "metadata": {},
   "outputs": [
    {
     "data": {
      "text/plain": [
       "[('返事をする', 29),\n",
       " ('挨拶をする', 21),\n",
       " ('話をする', 14),\n",
       " ('真似をする', 14),\n",
       " ('喧嘩をする', 11),\n",
       " ('質問をする', 8),\n",
       " ('運動をする', 7),\n",
       " ('昼寝をする', 6),\n",
       " ('話を聞く', 6),\n",
       " ('問答をする', 5)]"
      ]
     },
     "execution_count": 145,
     "metadata": {},
     "output_type": "execute_result"
    }
   ],
   "source": [
    "sorted(units.items(), key=lambda x: -x[1])[:10]"
   ]
  },
  {
   "cell_type": "markdown",
   "metadata": {},
   "source": [
    "## 48"
   ]
  },
  {
   "cell_type": "code",
   "execution_count": 190,
   "metadata": {},
   "outputs": [],
   "source": [
    "def string_paths(sentence, i, now = None):\n",
    "    if not now:\n",
    "        now = \"\"\n",
    "    if not sentence[i].dst:\n",
    "        return now + str(sentence[i])\n",
    "    \n",
    "    now += \"{} -> \".format(sentence[i])   \n",
    "    return string_paths(sentence, sentence[i].dst, now)"
   ]
  },
  {
   "cell_type": "code",
   "execution_count": 155,
   "metadata": {},
   "outputs": [],
   "source": [
    "with open(\"48_path.txt\", \"w\", encoding=\"utf_8\") as f:\n",
    "    for sentence in full:\n",
    "        for ci, chunk in enumerate(sentence):\n",
    "            if chunk.has_noun():\n",
    "                print(print_paths(sentence, ci))"
   ]
  },
  {
   "cell_type": "markdown",
   "metadata": {},
   "source": [
    "## 49"
   ]
  },
  {
   "cell_type": "code",
   "execution_count": 158,
   "metadata": {},
   "outputs": [],
   "source": [
    "from itertools import combinations"
   ]
  },
  {
   "cell_type": "code",
   "execution_count": 212,
   "metadata": {},
   "outputs": [],
   "source": [
    "import copy"
   ]
  },
  {
   "cell_type": "code",
   "execution_count": 222,
   "metadata": {},
   "outputs": [],
   "source": [
    "import json"
   ]
  },
  {
   "cell_type": "markdown",
   "metadata": {},
   "source": [
    "Pythonのdeepcopyも結局子dictまでしか作らない、孫はそのまま"
   ]
  },
  {
   "cell_type": "code",
   "execution_count": 300,
   "metadata": {},
   "outputs": [],
   "source": [
    "# もらったpathを適宜X, Y置き換えしながら文字列で返す\n",
    "def render_path(sentence, path, now = \"\", replace = {}):\n",
    "    app_word = \"\"\n",
    "    curr = path.pop(0)\n",
    "        \n",
    "    if curr in replace:\n",
    "        replaced = False\n",
    "        for m in sentence[curr].morphs:\n",
    "            if m.pos == \"名詞\" and not replaced:\n",
    "                app_word += replace[curr]\n",
    "                replaced = True\n",
    "            else:\n",
    "                app_word += str(m)\n",
    "    else:\n",
    "        app_word = str(sentence[curr])\n",
    "    \n",
    "    if not path:\n",
    "        # replace名詞が最後なら助詞つけないっぽい、二度手間だけどここで調整\n",
    "        if curr in replace:\n",
    "            app_word = \"\"\n",
    "            for m in sentence[curr].morphs:\n",
    "                if m.pos == \"名詞\":\n",
    "                    app_word += replace[curr]\n",
    "                    break\n",
    "                else:\n",
    "                    app_word += str(m)\n",
    "        \n",
    "        return now + app_word\n",
    "    \n",
    "    now += \"{} -> \".format(app_word)\n",
    "    return render_path(sentence, path, now, replace)"
   ]
  },
  {
   "cell_type": "code",
   "execution_count": 284,
   "metadata": {},
   "outputs": [],
   "source": [
    "# ある地点から根までのpathを配列で返す\n",
    "def get_path(sentence, start, now = None):\n",
    "    if not now:\n",
    "        now = []\n",
    "    now.append(start)\n",
    "    if not sentence[start].dst:\n",
    "        return now\n",
    "    return get_path(sentence, sentence[start].dst, now)"
   ]
  },
  {
   "cell_type": "code",
   "execution_count": 298,
   "metadata": {},
   "outputs": [],
   "source": [
    "# x, yのパスを返すと欲しいやつが返ってくるすごい関数\n",
    "def string_dual_path(sentence, path_x, path_y):\n",
    "\n",
    "    x = path_x[0]\n",
    "    y = path_y[0]\n",
    "    \n",
    "    # どちらかが根である場合\n",
    "    if len(path_x) == 1:\n",
    "        return render_path(sentence, path_y, replace={x: \"X\", y: \"Y\"})\n",
    "    if len(path_y) == 1:\n",
    "        return render_path(sentence, path_x, replace={x: \"X\", y: \"Y\"})\n",
    "    \n",
    "    # どちらかがルート上にある場合\n",
    "    if y in path_x:\n",
    "        cut = path_x.index(y)\n",
    "        return render_path(sentence, path_x[:cut+1], replace={x: \"X\", y: \"Y\"})\n",
    "    if x in path_y:\n",
    "        cut = path_y.index(x)\n",
    "        return render_path(sentence, path_x[:cut+1], replace={x: \"X\", y: \"Y\"})\n",
    "        \n",
    "    # 文節kで合流する場合\n",
    "    ## kの地点を -i （最後からi番目）の形で求める（どうせ最後は同じ）\n",
    "    i = -1\n",
    "    while True:\n",
    "        if path_x[i-1] != path_y[i-1]:\n",
    "            break\n",
    "        i -= 1\n",
    "    \n",
    "    rend_x = render_path(sentence, path_x[:i], replace={x: \"X\"})\n",
    "    rend_y = render_path(sentence, path_y[:i], replace={y: \"Y\"})\n",
    "    goal = str(sentence[i])\n",
    "    \n",
    "    return \" | \".join([rend_x, rend_y, goal])\n",
    "        "
   ]
  },
  {
   "cell_type": "code",
   "execution_count": 306,
   "metadata": {
    "scrolled": true
   },
   "outputs": [
    {
     "name": "stdout",
     "output_type": "stream",
     "text": [
      "0/100\n",
      "1/100\n",
      "2/100\n",
      "3/100\n",
      "4/100\n",
      "5/100\n",
      "6/100\n",
      "7/100\n",
      "8/100\n",
      "9/100\n",
      "10/100\n",
      "11/100\n",
      "12/100\n",
      "13/100\n",
      "14/100\n",
      "15/100\n",
      "16/100\n",
      "17/100\n",
      "18/100\n",
      "19/100\n",
      "20/100\n",
      "21/100\n",
      "22/100\n",
      "23/100\n",
      "24/100\n",
      "25/100\n",
      "26/100\n",
      "27/100\n",
      "28/100\n",
      "29/100\n",
      "30/100\n",
      "31/100\n",
      "32/100\n",
      "33/100\n",
      "34/100\n",
      "35/100\n",
      "36/100\n",
      "37/100\n",
      "38/100\n",
      "39/100\n",
      "40/100\n",
      "41/100\n",
      "42/100\n",
      "43/100\n",
      "44/100\n",
      "45/100\n",
      "46/100\n",
      "47/100\n",
      "48/100\n",
      "49/100\n",
      "50/100\n",
      "51/100\n",
      "52/100\n",
      "53/100\n",
      "54/100\n",
      "55/100\n",
      "56/100\n",
      "57/100\n",
      "58/100\n",
      "59/100\n",
      "60/100\n",
      "61/100\n",
      "62/100\n",
      "63/100\n",
      "64/100\n",
      "65/100\n",
      "66/100\n",
      "67/100\n",
      "68/100\n",
      "69/100\n",
      "70/100\n",
      "71/100\n",
      "72/100\n",
      "73/100\n",
      "74/100\n",
      "75/100\n",
      "76/100\n",
      "77/100\n",
      "78/100\n",
      "79/100\n",
      "80/100\n",
      "81/100\n",
      "82/100\n",
      "83/100\n",
      "84/100\n",
      "85/100\n",
      "86/100\n",
      "87/100\n",
      "88/100\n",
      "89/100\n",
      "90/100\n",
      "91/100\n",
      "92/100\n",
      "93/100\n",
      "94/100\n",
      "95/100\n",
      "96/100\n",
      "97/100\n",
      "98/100\n",
      "99/100\n"
     ]
    }
   ],
   "source": [
    "with open(\"49_nouns_path.txt\", \"w\", encoding=\"utf_8\") as f:\n",
    "    for i, sentence in enumerate(full[:100]):\n",
    "        print(\"{}/{}\".format(i, 100))\n",
    "        nouns = []\n",
    "        for ci, chunk in enumerate(sentence):\n",
    "            if chunk.has_noun():\n",
    "                nouns.append(ci)\n",
    "\n",
    "        if len(nouns) < 2:\n",
    "            continue\n",
    "\n",
    "        print(\"*\", \"\".join(map(lambda x: str(x), sentence)), file=f)\n",
    "        for x, y in combinations(nouns, 2):\n",
    "            path_x = get_path(sentence, x)\n",
    "            path_y = get_path(sentence, y)\n",
    "            print(string_dual_path(copy.deepcopy(sentence), path_x, path_y), file=f)\n",
    "    "
   ]
  },
  {
   "cell_type": "markdown",
   "metadata": {},
   "source": [
    "ファイルがでかくなるのが嫌なのでとりあえず100まで"
   ]
  },
  {
   "cell_type": "markdown",
   "metadata": {},
   "source": [
    "おわり"
   ]
  }
 ],
 "metadata": {
  "kernelspec": {
   "display_name": "Python 3",
   "language": "python",
   "name": "python3"
  },
  "language_info": {
   "codemirror_mode": {
    "name": "ipython",
    "version": 3
   },
   "file_extension": ".py",
   "mimetype": "text/x-python",
   "name": "python",
   "nbconvert_exporter": "python",
   "pygments_lexer": "ipython3",
   "version": "3.6.9"
  }
 },
 "nbformat": 4,
 "nbformat_minor": 4
}
