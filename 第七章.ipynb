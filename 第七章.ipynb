{
  "nbformat": 4,
  "nbformat_minor": 0,
  "metadata": {
    "colab": {
      "name": "第七章.ipynb",
      "provenance": [],
      "collapsed_sections": []
    },
    "kernelspec": {
      "name": "python3",
      "display_name": "Python 3"
    }
  },
  "cells": [
    {
      "cell_type": "markdown",
      "metadata": {
        "id": "fez7FakljC-4",
        "colab_type": "text"
      },
      "source": [
        "# 第七章"
      ]
    },
    {
      "cell_type": "markdown",
      "metadata": {
        "id": "mlhyqsr5jF-x",
        "colab_type": "text"
      },
      "source": [
        "## 60"
      ]
    },
    {
      "cell_type": "code",
      "metadata": {
        "id": "qXniAFcSbR-R",
        "colab_type": "code",
        "outputId": "5dcf5f96-81f1-4475-b7bc-8e7e79600de6",
        "colab": {
          "base_uri": "https://localhost:8080/",
          "height": 215
        }
      },
      "source": [
        "!wget \"https://s3.amazonaws.com/dl4j-distribution/GoogleNews-vectors-negative300.bin.gz\""
      ],
      "execution_count": 0,
      "outputs": [
        {
          "output_type": "stream",
          "text": [
            "--2020-04-16 10:19:12--  https://s3.amazonaws.com/dl4j-distribution/GoogleNews-vectors-negative300.bin.gz\n",
            "Resolving s3.amazonaws.com (s3.amazonaws.com)... 52.216.250.6\n",
            "Connecting to s3.amazonaws.com (s3.amazonaws.com)|52.216.250.6|:443... connected.\n",
            "HTTP request sent, awaiting response... 200 OK\n",
            "Length: 1647046227 (1.5G) [application/x-gzip]\n",
            "Saving to: ‘GoogleNews-vectors-negative300.bin.gz’\n",
            "\n",
            "GoogleNews-vectors- 100%[===================>]   1.53G  78.1MB/s    in 24s     \n",
            "\n",
            "2020-04-16 10:19:35 (66.2 MB/s) - ‘GoogleNews-vectors-negative300.bin.gz’ saved [1647046227/1647046227]\n",
            "\n"
          ],
          "name": "stdout"
        }
      ]
    },
    {
      "cell_type": "code",
      "metadata": {
        "id": "UDhrAbmygRxF",
        "colab_type": "code",
        "colab": {}
      },
      "source": [
        "from gensim.models import KeyedVectors"
      ],
      "execution_count": 0,
      "outputs": []
    },
    {
      "cell_type": "code",
      "metadata": {
        "id": "hjjY_FX5g5KK",
        "colab_type": "code",
        "outputId": "dbcde584-fa0b-4ebf-a42c-faabfbdfc4eb",
        "colab": {
          "base_uri": "https://localhost:8080/",
          "height": 73
        }
      },
      "source": [
        "model = KeyedVectors.load_word2vec_format(\"GoogleNews-vectors-negative300.bin.gz\", binary=True)"
      ],
      "execution_count": 0,
      "outputs": [
        {
          "output_type": "stream",
          "text": [
            "/usr/local/lib/python3.6/dist-packages/smart_open/smart_open_lib.py:410: UserWarning: This function is deprecated, use smart_open.open instead. See the migration notes for details: https://github.com/RaRe-Technologies/smart_open/blob/master/README.rst#migrating-to-the-new-open-function\n",
            "  'See the migration notes for details: %s' % _MIGRATION_NOTES_URL\n"
          ],
          "name": "stderr"
        }
      ]
    },
    {
      "cell_type": "markdown",
      "metadata": {
        "id": "BPamU1Msbc2K",
        "colab_type": "text"
      },
      "source": [
        "https://github.com/googlecolab/colabtools/issues/85 より"
      ]
    },
    {
      "cell_type": "code",
      "metadata": {
        "id": "Ihw0HFK2ZfOp",
        "colab_type": "code",
        "outputId": "4f6be597-cb08-4ff8-eab9-16f0707bf102",
        "colab": {
          "base_uri": "https://localhost:8080/",
          "height": 1000
        }
      },
      "source": [
        "!apt-get install libproj-dev proj-data proj-bin\n",
        "!apt-get install libgeos-dev\n",
        "!pip install cython\n",
        "!pip install cartopy"
      ],
      "execution_count": 0,
      "outputs": [
        {
          "output_type": "stream",
          "text": [
            "Reading package lists... Done\n",
            "Building dependency tree       \n",
            "Reading state information... Done\n",
            "proj-data is already the newest version (4.9.3-2).\n",
            "proj-data set to manually installed.\n",
            "The following NEW packages will be installed:\n",
            "  libproj-dev proj-bin\n",
            "0 upgraded, 2 newly installed, 0 to remove and 25 not upgraded.\n",
            "Need to get 232 kB of archives.\n",
            "After this operation, 1,220 kB of additional disk space will be used.\n",
            "Get:1 http://archive.ubuntu.com/ubuntu bionic/universe amd64 libproj-dev amd64 4.9.3-2 [199 kB]\n",
            "Get:2 http://archive.ubuntu.com/ubuntu bionic/universe amd64 proj-bin amd64 4.9.3-2 [32.3 kB]\n",
            "Fetched 232 kB in 1s (366 kB/s)\n",
            "Selecting previously unselected package libproj-dev:amd64.\n",
            "(Reading database ... 144568 files and directories currently installed.)\n",
            "Preparing to unpack .../libproj-dev_4.9.3-2_amd64.deb ...\n",
            "Unpacking libproj-dev:amd64 (4.9.3-2) ...\n",
            "Selecting previously unselected package proj-bin.\n",
            "Preparing to unpack .../proj-bin_4.9.3-2_amd64.deb ...\n",
            "Unpacking proj-bin (4.9.3-2) ...\n",
            "Setting up libproj-dev:amd64 (4.9.3-2) ...\n",
            "Setting up proj-bin (4.9.3-2) ...\n",
            "Processing triggers for man-db (2.8.3-2ubuntu0.1) ...\n",
            "Reading package lists... Done\n",
            "Building dependency tree       \n",
            "Reading state information... Done\n",
            "Suggested packages:\n",
            "  libgdal-doc\n",
            "The following NEW packages will be installed:\n",
            "  libgeos-dev\n",
            "0 upgraded, 1 newly installed, 0 to remove and 25 not upgraded.\n",
            "Need to get 73.1 kB of archives.\n",
            "After this operation, 486 kB of additional disk space will be used.\n",
            "Get:1 http://archive.ubuntu.com/ubuntu bionic/universe amd64 libgeos-dev amd64 3.6.2-1build2 [73.1 kB]\n",
            "Fetched 73.1 kB in 0s (180 kB/s)\n",
            "Selecting previously unselected package libgeos-dev.\n",
            "(Reading database ... 144601 files and directories currently installed.)\n",
            "Preparing to unpack .../libgeos-dev_3.6.2-1build2_amd64.deb ...\n",
            "Unpacking libgeos-dev (3.6.2-1build2) ...\n",
            "Setting up libgeos-dev (3.6.2-1build2) ...\n",
            "Processing triggers for man-db (2.8.3-2ubuntu0.1) ...\n",
            "Requirement already satisfied: cython in /usr/local/lib/python3.6/dist-packages (0.29.16)\n",
            "Collecting cartopy\n",
            "  Using cached https://files.pythonhosted.org/packages/e5/92/fe8838fa8158931906dfc4f16c5c1436b3dd2daf83592645b179581403ad/Cartopy-0.17.0.tar.gz\n",
            "  Installing build dependencies ... \u001b[?25l\u001b[?25hdone\n",
            "  Getting requirements to build wheel ... \u001b[?25l\u001b[?25hdone\n",
            "    Preparing wheel metadata ... \u001b[?25l\u001b[?25hdone\n",
            "Requirement already satisfied: setuptools>=0.7.2 in /usr/local/lib/python3.6/dist-packages (from cartopy) (46.1.3)\n",
            "Requirement already satisfied: shapely>=1.5.6 in /usr/local/lib/python3.6/dist-packages (from cartopy) (1.7.0)\n",
            "Requirement already satisfied: six>=1.3.0 in /usr/local/lib/python3.6/dist-packages (from cartopy) (1.12.0)\n",
            "Collecting pyshp>=1.1.4\n",
            "\u001b[?25l  Downloading https://files.pythonhosted.org/packages/27/16/3bf15aa864fb77845fab8007eda22c2bd67bd6c1fd13496df452c8c43621/pyshp-2.1.0.tar.gz (215kB)\n",
            "\u001b[K     |████████████████████████████████| 225kB 2.8MB/s \n",
            "\u001b[?25hRequirement already satisfied: numpy>=1.10 in /usr/local/lib/python3.6/dist-packages (from cartopy) (1.18.2)\n",
            "Building wheels for collected packages: cartopy\n",
            "  Building wheel for cartopy (PEP 517) ... \u001b[?25l\u001b[?25hdone\n",
            "  Created wheel for cartopy: filename=Cartopy-0.17.0-cp36-cp36m-linux_x86_64.whl size=9713806 sha256=fcecde81dd1ced4cb45f5b0cad80e9c82967bdb801c41dc24e4ad8031101d2f6\n",
            "  Stored in directory: /root/.cache/pip/wheels/cd/cf/40/539f798f94e921e94fd376a5f9d213a6febe77754c0b187c73\n",
            "Successfully built cartopy\n",
            "Building wheels for collected packages: pyshp\n",
            "  Building wheel for pyshp (setup.py) ... \u001b[?25l\u001b[?25hdone\n",
            "  Created wheel for pyshp: filename=pyshp-2.1.0-cp36-none-any.whl size=32609 sha256=5d60ee3fafcc5531f43bb8e48a58a71f53312d23ad86e76fb0040460c2e53ba8\n",
            "  Stored in directory: /root/.cache/pip/wheels/a6/0c/de/321b5192ad416b328975a2f0385f72c64db4656501eba7cc1a\n",
            "Successfully built pyshp\n",
            "Installing collected packages: pyshp, cartopy\n",
            "Successfully installed cartopy-0.17.0 pyshp-2.1.0\n"
          ],
          "name": "stdout"
        }
      ]
    },
    {
      "cell_type": "code",
      "metadata": {
        "id": "icvoylDedLRb",
        "colab_type": "code",
        "outputId": "52dd9102-e934-4996-b5c1-25cb6ce03748",
        "colab": {
          "base_uri": "https://localhost:8080/",
          "height": 487
        }
      },
      "source": [
        "!pip install geopandas"
      ],
      "execution_count": 0,
      "outputs": [
        {
          "output_type": "stream",
          "text": [
            "Collecting geopandas\n",
            "\u001b[?25l  Downloading https://files.pythonhosted.org/packages/83/c5/3cf9cdc39a6f2552922f79915f36b45a95b71fd343cfc51170a5b6ddb6e8/geopandas-0.7.0-py2.py3-none-any.whl (928kB)\n",
            "\u001b[K     |████████████████████████████████| 931kB 2.8MB/s \n",
            "\u001b[?25hCollecting fiona\n",
            "\u001b[?25l  Downloading https://files.pythonhosted.org/packages/ec/20/4e63bc5c6e62df889297b382c3ccd4a7a488b00946aaaf81a118158c6f09/Fiona-1.8.13.post1-cp36-cp36m-manylinux1_x86_64.whl (14.7MB)\n",
            "\u001b[K     |████████████████████████████████| 14.7MB 58.2MB/s \n",
            "\u001b[?25hRequirement already satisfied: pandas>=0.23.0 in /usr/local/lib/python3.6/dist-packages (from geopandas) (1.0.3)\n",
            "Collecting pyproj>=2.2.0\n",
            "\u001b[?25l  Downloading https://files.pythonhosted.org/packages/ce/37/705ee471f71130d4ceee41bbcb06f3b52175cb89273cbb5755ed5e6374e0/pyproj-2.6.0-cp36-cp36m-manylinux2010_x86_64.whl (10.4MB)\n",
            "\u001b[K     |████████████████████████████████| 10.4MB 41.9MB/s \n",
            "\u001b[?25hRequirement already satisfied: shapely in /usr/local/lib/python3.6/dist-packages (from geopandas) (1.7.0)\n",
            "Requirement already satisfied: six>=1.7 in /usr/local/lib/python3.6/dist-packages (from fiona->geopandas) (1.12.0)\n",
            "Collecting cligj>=0.5\n",
            "  Downloading https://files.pythonhosted.org/packages/e4/be/30a58b4b0733850280d01f8bd132591b4668ed5c7046761098d665ac2174/cligj-0.5.0-py3-none-any.whl\n",
            "Collecting munch\n",
            "  Downloading https://files.pythonhosted.org/packages/cc/ab/85d8da5c9a45e072301beb37ad7f833cd344e04c817d97e0cc75681d248f/munch-2.5.0-py2.py3-none-any.whl\n",
            "Requirement already satisfied: attrs>=17 in /usr/local/lib/python3.6/dist-packages (from fiona->geopandas) (19.3.0)\n",
            "Requirement already satisfied: click<8,>=4.0 in /usr/local/lib/python3.6/dist-packages (from fiona->geopandas) (7.1.1)\n",
            "Collecting click-plugins>=1.0\n",
            "  Downloading https://files.pythonhosted.org/packages/e9/da/824b92d9942f4e472702488857914bdd50f73021efea15b4cad9aca8ecef/click_plugins-1.1.1-py2.py3-none-any.whl\n",
            "Requirement already satisfied: python-dateutil>=2.6.1 in /usr/local/lib/python3.6/dist-packages (from pandas>=0.23.0->geopandas) (2.8.1)\n",
            "Requirement already satisfied: pytz>=2017.2 in /usr/local/lib/python3.6/dist-packages (from pandas>=0.23.0->geopandas) (2018.9)\n",
            "Requirement already satisfied: numpy>=1.13.3 in /usr/local/lib/python3.6/dist-packages (from pandas>=0.23.0->geopandas) (1.18.2)\n",
            "Installing collected packages: cligj, munch, click-plugins, fiona, pyproj, geopandas\n",
            "Successfully installed click-plugins-1.1.1 cligj-0.5.0 fiona-1.8.13.post1 geopandas-0.7.0 munch-2.5.0 pyproj-2.6.0\n"
          ],
          "name": "stdout"
        }
      ]
    },
    {
      "cell_type": "markdown",
      "metadata": {
        "id": "lTzzVbHnjIsr",
        "colab_type": "text"
      },
      "source": [
        "学習済みモデルの使い方\n",
        "https://qiita.com/omuram/items/6570973c090c6f0cb060"
      ]
    },
    {
      "cell_type": "code",
      "metadata": {
        "id": "PxNMI0Pwh_xk",
        "colab_type": "code",
        "outputId": "f9df7d65-1ef5-4055-b1a0-5c30aaafe8c6",
        "colab": {
          "base_uri": "https://localhost:8080/",
          "height": 1000
        }
      },
      "source": [
        "model['United_States']"
      ],
      "execution_count": 0,
      "outputs": [
        {
          "output_type": "execute_result",
          "data": {
            "text/plain": [
              "array([-3.61328125e-02, -4.83398438e-02,  2.35351562e-01,  1.74804688e-01,\n",
              "       -1.46484375e-01, -7.42187500e-02, -1.01562500e-01, -7.71484375e-02,\n",
              "        1.09375000e-01, -5.71289062e-02, -1.48437500e-01, -6.00585938e-02,\n",
              "        1.74804688e-01, -7.71484375e-02,  2.58789062e-02, -7.66601562e-02,\n",
              "       -3.80859375e-02,  1.35742188e-01,  3.75976562e-02, -4.19921875e-02,\n",
              "       -3.56445312e-02,  5.34667969e-02,  3.68118286e-04, -1.66992188e-01,\n",
              "       -1.17187500e-01,  1.41601562e-01, -1.69921875e-01, -6.49414062e-02,\n",
              "       -1.66992188e-01,  1.00585938e-01,  1.15722656e-01, -2.18750000e-01,\n",
              "       -9.86328125e-02, -2.56347656e-02,  1.23046875e-01, -3.54003906e-02,\n",
              "       -1.58203125e-01, -1.60156250e-01,  2.94189453e-02,  8.15429688e-02,\n",
              "        6.88476562e-02,  1.87500000e-01,  6.49414062e-02,  1.15234375e-01,\n",
              "       -2.27050781e-02,  3.32031250e-01, -3.27148438e-02,  1.77734375e-01,\n",
              "       -2.08007812e-01,  4.54101562e-02, -1.23901367e-02,  1.19628906e-01,\n",
              "        7.44628906e-03, -9.03320312e-03,  1.14257812e-01,  1.69921875e-01,\n",
              "       -2.38281250e-01, -2.79541016e-02, -1.21093750e-01,  2.47802734e-02,\n",
              "        7.71484375e-02, -2.81982422e-02, -4.71191406e-02,  1.78222656e-02,\n",
              "       -1.23046875e-01, -5.32226562e-02,  2.68554688e-02, -3.11279297e-02,\n",
              "       -5.59082031e-02, -5.00488281e-02, -3.73535156e-02,  1.25976562e-01,\n",
              "        5.61523438e-02,  1.51367188e-01,  4.29687500e-02, -2.08007812e-01,\n",
              "       -4.78515625e-02,  2.78320312e-02,  1.81640625e-01,  2.20703125e-01,\n",
              "       -3.61328125e-02, -8.39843750e-02, -3.69548798e-05, -9.52148438e-02,\n",
              "       -1.25000000e-01, -1.95312500e-01, -1.50390625e-01, -4.15039062e-02,\n",
              "        1.31835938e-01,  1.17675781e-01,  1.91650391e-02,  5.51757812e-02,\n",
              "       -9.42382812e-02, -1.08886719e-01,  7.32421875e-02, -1.15234375e-01,\n",
              "        8.93554688e-02, -1.40625000e-01,  1.45507812e-01,  4.49218750e-02,\n",
              "       -1.10473633e-02, -1.62353516e-02,  4.05883789e-03,  3.75976562e-02,\n",
              "       -6.98242188e-02, -5.46875000e-02,  2.17285156e-02, -9.47265625e-02,\n",
              "        4.24804688e-02,  1.81884766e-02, -1.73339844e-02,  4.63867188e-02,\n",
              "       -1.42578125e-01,  1.99218750e-01,  1.10839844e-01,  2.58789062e-02,\n",
              "       -7.08007812e-02, -5.54199219e-02,  3.45703125e-01,  1.61132812e-01,\n",
              "       -2.44140625e-01, -2.59765625e-01, -9.71679688e-02,  8.00781250e-02,\n",
              "       -8.78906250e-02, -7.22656250e-02,  1.42578125e-01, -8.54492188e-02,\n",
              "       -3.18359375e-01,  8.30078125e-02,  6.34765625e-02,  1.64062500e-01,\n",
              "       -1.92382812e-01, -1.17675781e-01, -5.41992188e-02, -1.56250000e-01,\n",
              "       -1.21582031e-01, -4.95605469e-02,  1.20117188e-01, -3.83300781e-02,\n",
              "        5.51757812e-02, -8.97216797e-03,  4.32128906e-02,  6.93359375e-02,\n",
              "        8.93554688e-02,  2.53906250e-01,  1.65039062e-01,  1.64062500e-01,\n",
              "       -1.41601562e-01,  4.58984375e-02,  1.97265625e-01, -8.98437500e-02,\n",
              "        3.90625000e-02, -1.51367188e-01, -8.60595703e-03, -1.17675781e-01,\n",
              "       -1.97265625e-01, -1.12792969e-01,  1.29882812e-01,  1.96289062e-01,\n",
              "        1.56402588e-03,  3.93066406e-02,  2.17773438e-01, -1.43554688e-01,\n",
              "        6.03027344e-02, -1.35742188e-01,  1.16210938e-01, -1.59912109e-02,\n",
              "        2.79296875e-01,  1.46484375e-01, -1.19628906e-01,  1.76757812e-01,\n",
              "        1.28906250e-01, -1.49414062e-01,  6.93359375e-02, -1.72851562e-01,\n",
              "        9.22851562e-02,  1.33056641e-02, -2.00195312e-01, -9.76562500e-02,\n",
              "       -1.65039062e-01, -2.46093750e-01, -2.35595703e-02, -2.11914062e-01,\n",
              "        1.84570312e-01, -1.85546875e-02,  2.16796875e-01,  5.05371094e-02,\n",
              "        2.02636719e-02,  4.25781250e-01,  1.28906250e-01, -2.77099609e-02,\n",
              "        1.29882812e-01, -1.15722656e-01, -2.05078125e-02,  1.49414062e-01,\n",
              "        7.81250000e-03, -2.05078125e-01, -8.05664062e-02, -2.67578125e-01,\n",
              "       -2.29492188e-02, -8.20312500e-02,  8.64257812e-02,  7.61718750e-02,\n",
              "       -3.66210938e-02,  5.22460938e-02, -1.22070312e-01, -1.44042969e-02,\n",
              "       -2.69531250e-01,  8.44726562e-02, -2.52685547e-02, -2.96630859e-02,\n",
              "       -1.68945312e-01,  1.93359375e-01, -1.08398438e-01,  1.94091797e-02,\n",
              "       -1.80664062e-01,  1.93359375e-01, -7.08007812e-02,  5.85937500e-02,\n",
              "       -1.01562500e-01, -1.31835938e-01,  7.51953125e-02, -7.66601562e-02,\n",
              "        3.37219238e-03, -8.59375000e-02,  1.25000000e-01,  2.92968750e-02,\n",
              "        1.70898438e-01, -9.37500000e-02, -1.09375000e-01, -2.50244141e-02,\n",
              "        2.11914062e-01, -4.44335938e-02,  6.12792969e-02,  2.62451172e-02,\n",
              "       -1.77734375e-01,  1.23046875e-01, -7.42187500e-02, -1.67968750e-01,\n",
              "       -1.08886719e-01, -9.04083252e-04, -7.37304688e-02,  5.49316406e-02,\n",
              "        6.03027344e-02,  8.39843750e-02,  9.17968750e-02, -1.32812500e-01,\n",
              "        1.22070312e-01, -8.78906250e-03,  1.19140625e-01, -1.94335938e-01,\n",
              "       -6.64062500e-02, -2.07031250e-01,  7.37304688e-02,  8.93554688e-02,\n",
              "        1.81884766e-02, -1.20605469e-01, -2.61230469e-02,  2.67333984e-02,\n",
              "        7.76367188e-02, -8.30078125e-02,  6.78710938e-02, -3.54003906e-02,\n",
              "        3.10546875e-01, -2.42919922e-02, -1.41601562e-01, -2.08007812e-01,\n",
              "       -4.57763672e-03, -6.54296875e-02, -4.95605469e-02,  2.22656250e-01,\n",
              "        1.53320312e-01, -1.38671875e-01, -5.24902344e-02,  4.24804688e-02,\n",
              "       -2.38281250e-01,  1.56250000e-01,  5.83648682e-04, -1.20605469e-01,\n",
              "       -9.22851562e-02, -4.44335938e-02,  3.61328125e-02, -1.86767578e-02,\n",
              "       -8.25195312e-02, -8.25195312e-02, -4.05273438e-02,  1.19018555e-02,\n",
              "        1.69921875e-01, -2.80761719e-02,  3.03649902e-03,  9.32617188e-02,\n",
              "       -8.49609375e-02,  1.57470703e-02,  7.03125000e-02,  1.62353516e-02,\n",
              "       -2.27050781e-02,  3.51562500e-02,  2.47070312e-01, -2.67333984e-02],\n",
              "      dtype=float32)"
            ]
          },
          "metadata": {
            "tags": []
          },
          "execution_count": 13
        }
      ]
    },
    {
      "cell_type": "markdown",
      "metadata": {
        "id": "QgpEKLadjg7v",
        "colab_type": "text"
      },
      "source": [
        "## 61"
      ]
    },
    {
      "cell_type": "code",
      "metadata": {
        "id": "IfDh_MAujPfF",
        "colab_type": "code",
        "outputId": "c837abf9-36ff-4274-a9a3-eb8d49c03fd7",
        "colab": {
          "base_uri": "https://localhost:8080/",
          "height": 91
        }
      },
      "source": [
        "model.similarity(\"United_States\", \"U.S.\")"
      ],
      "execution_count": 0,
      "outputs": [
        {
          "output_type": "stream",
          "text": [
            "/usr/local/lib/python3.6/dist-packages/gensim/matutils.py:737: FutureWarning: Conversion of the second argument of issubdtype from `int` to `np.signedinteger` is deprecated. In future, it will be treated as `np.int64 == np.dtype(int).type`.\n",
            "  if np.issubdtype(vec.dtype, np.int):\n"
          ],
          "name": "stderr"
        },
        {
          "output_type": "execute_result",
          "data": {
            "text/plain": [
              "0.73107743"
            ]
          },
          "metadata": {
            "tags": []
          },
          "execution_count": 14
        }
      ]
    },
    {
      "cell_type": "markdown",
      "metadata": {
        "id": "XR8NG2QvkCyf",
        "colab_type": "text"
      },
      "source": [
        "## 62"
      ]
    },
    {
      "cell_type": "code",
      "metadata": {
        "id": "kSzVksraj-rd",
        "colab_type": "code",
        "outputId": "c76e2b91-a0c0-48b1-f928-351037c0a99f",
        "colab": {
          "base_uri": "https://localhost:8080/",
          "height": 253
        }
      },
      "source": [
        "model.most_similar(\"United_States\")[:10]"
      ],
      "execution_count": 0,
      "outputs": [
        {
          "output_type": "stream",
          "text": [
            "/usr/local/lib/python3.6/dist-packages/gensim/matutils.py:737: FutureWarning: Conversion of the second argument of issubdtype from `int` to `np.signedinteger` is deprecated. In future, it will be treated as `np.int64 == np.dtype(int).type`.\n",
            "  if np.issubdtype(vec.dtype, np.int):\n"
          ],
          "name": "stderr"
        },
        {
          "output_type": "execute_result",
          "data": {
            "text/plain": [
              "[('Unites_States', 0.7877248525619507),\n",
              " ('Untied_States', 0.7541370391845703),\n",
              " ('United_Sates', 0.74007248878479),\n",
              " ('U.S.', 0.7310774326324463),\n",
              " ('theUnited_States', 0.6404393911361694),\n",
              " ('America', 0.6178410053253174),\n",
              " ('UnitedStates', 0.6167312264442444),\n",
              " ('Europe', 0.6132988929748535),\n",
              " ('countries', 0.6044804453849792),\n",
              " ('Canada', 0.6019070148468018)]"
            ]
          },
          "metadata": {
            "tags": []
          },
          "execution_count": 15
        }
      ]
    },
    {
      "cell_type": "markdown",
      "metadata": {
        "id": "lQjNJDOAlrnK",
        "colab_type": "text"
      },
      "source": [
        "## 63"
      ]
    },
    {
      "cell_type": "code",
      "metadata": {
        "id": "iDB_QXnrkJhl",
        "colab_type": "code",
        "outputId": "1afb068f-5690-4ac5-f1a9-8285c096b539",
        "colab": {
          "base_uri": "https://localhost:8080/",
          "height": 253
        }
      },
      "source": [
        "model.most_similar(positive=['Spain', 'Athens'], negative=['Madrid'])[:10]"
      ],
      "execution_count": 0,
      "outputs": [
        {
          "output_type": "stream",
          "text": [
            "/usr/local/lib/python3.6/dist-packages/gensim/matutils.py:737: FutureWarning: Conversion of the second argument of issubdtype from `int` to `np.signedinteger` is deprecated. In future, it will be treated as `np.int64 == np.dtype(int).type`.\n",
            "  if np.issubdtype(vec.dtype, np.int):\n"
          ],
          "name": "stderr"
        },
        {
          "output_type": "execute_result",
          "data": {
            "text/plain": [
              "[('Greece', 0.6898481249809265),\n",
              " ('Aristeidis_Grigoriadis', 0.5606848001480103),\n",
              " ('Ioannis_Drymonakos', 0.5552908778190613),\n",
              " ('Greeks', 0.545068621635437),\n",
              " ('Ioannis_Christou', 0.5400862693786621),\n",
              " ('Hrysopiyi_Devetzi', 0.5248444676399231),\n",
              " ('Heraklio', 0.5207759737968445),\n",
              " ('Athens_Greece', 0.516880989074707),\n",
              " ('Lithuania', 0.5166866183280945),\n",
              " ('Iraklion', 0.5146791934967041)]"
            ]
          },
          "metadata": {
            "tags": []
          },
          "execution_count": 16
        }
      ]
    },
    {
      "cell_type": "markdown",
      "metadata": {
        "id": "6ER2sfCKly4K",
        "colab_type": "text"
      },
      "source": [
        "ちゃんとGreeceが出てきた、おもしろい"
      ]
    },
    {
      "cell_type": "markdown",
      "metadata": {
        "id": "5s7kx2qDs-AC",
        "colab_type": "text"
      },
      "source": [
        "## 64"
      ]
    },
    {
      "cell_type": "code",
      "metadata": {
        "id": "YLUFebtjtn_K",
        "colab_type": "code",
        "colab": {}
      },
      "source": [
        "import pandas as pd\n",
        "import numpy as np"
      ],
      "execution_count": 0,
      "outputs": []
    },
    {
      "cell_type": "code",
      "metadata": {
        "id": "NHu7iN6jwr3m",
        "colab_type": "code",
        "colab": {}
      },
      "source": [
        "from tqdm import tqdm"
      ],
      "execution_count": 0,
      "outputs": []
    },
    {
      "cell_type": "code",
      "metadata": {
        "id": "KLPxhZ2almv8",
        "colab_type": "code",
        "outputId": "c2eda66c-eb7a-4d32-8fd5-e9c87e129c9a",
        "colab": {
          "base_uri": "https://localhost:8080/",
          "height": 215
        }
      },
      "source": [
        "! wget http://download.tensorflow.org/data/questions-words.txt"
      ],
      "execution_count": 0,
      "outputs": [
        {
          "output_type": "stream",
          "text": [
            "--2020-04-16 11:16:07--  http://download.tensorflow.org/data/questions-words.txt\n",
            "Resolving download.tensorflow.org (download.tensorflow.org)... 173.194.217.128, 2607:f8b0:400c:c13::80\n",
            "Connecting to download.tensorflow.org (download.tensorflow.org)|173.194.217.128|:80... connected.\n",
            "HTTP request sent, awaiting response... 200 OK\n",
            "Length: 603955 (590K) [text/plain]\n",
            "Saving to: ‘questions-words.txt’\n",
            "\n",
            "\rquestions-words.txt   0%[                    ]       0  --.-KB/s               \rquestions-words.txt 100%[===================>] 589.80K  --.-KB/s    in 0.002s  \n",
            "\n",
            "2020-04-16 11:16:07 (282 MB/s) - ‘questions-words.txt’ saved [603955/603955]\n",
            "\n"
          ],
          "name": "stdout"
        }
      ]
    },
    {
      "cell_type": "code",
      "metadata": {
        "id": "3XjwV2GUs_7G",
        "colab_type": "code",
        "colab": {}
      },
      "source": [
        "questions = pd.read_csv('questions-words.txt', delim_whitespace=True, skiprows=[0], names=['1', '2', '3', 'ans'])"
      ],
      "execution_count": 0,
      "outputs": []
    },
    {
      "cell_type": "code",
      "metadata": {
        "id": "0jKqGxVCwKw_",
        "colab_type": "code",
        "colab": {}
      },
      "source": [
        "questions['pred'] = \"\"\n",
        "questions['per'] = 0"
      ],
      "execution_count": 0,
      "outputs": []
    },
    {
      "cell_type": "code",
      "metadata": {
        "colab_type": "code",
        "id": "hwknKEYPwldW",
        "colab": {}
      },
      "source": [
        "preds = [\"\" for _ in range(questions.shape[0])]\n",
        "pers = [0 for _ in range(questions.shape[0])]\n",
        "\n",
        "for i, row in tqdm(questions.iterrows()):\n",
        "  try:\n",
        "    pred_w, pred_p = model.most_similar(positive=[row['2'], row['3']], negative=[row['1']])[0]\n",
        "  except:\n",
        "    continue\n",
        "  preds[i] = pred_w\n",
        "  pers[i] = pred_p"
      ],
      "execution_count": 0,
      "outputs": []
    },
    {
      "cell_type": "markdown",
      "metadata": {
        "id": "dDRNJ_2xkm27",
        "colab_type": "text"
      },
      "source": [
        "↑すごく時間がかかった\n",
        "もっといい方法はないのか？（でも300次元ベクトルの一番近いのを毎回計算してるならまあそのくらいかかるかという感想）"
      ]
    },
    {
      "cell_type": "code",
      "metadata": {
        "id": "tz5eY7SYt1BM",
        "colab_type": "code",
        "colab": {}
      },
      "source": [
        "questions['pred'] = preds\n",
        "questions['per'] = pers"
      ],
      "execution_count": 0,
      "outputs": []
    },
    {
      "cell_type": "code",
      "metadata": {
        "id": "OofdjyRuOgLB",
        "colab_type": "code",
        "outputId": "622a350f-f5fc-4c78-b944-2d3f5ce5d85d",
        "colab": {
          "base_uri": "https://localhost:8080/",
          "height": 415
        }
      },
      "source": [
        "questions"
      ],
      "execution_count": 0,
      "outputs": [
        {
          "output_type": "execute_result",
          "data": {
            "text/html": [
              "<div>\n",
              "<style scoped>\n",
              "    .dataframe tbody tr th:only-of-type {\n",
              "        vertical-align: middle;\n",
              "    }\n",
              "\n",
              "    .dataframe tbody tr th {\n",
              "        vertical-align: top;\n",
              "    }\n",
              "\n",
              "    .dataframe thead th {\n",
              "        text-align: right;\n",
              "    }\n",
              "</style>\n",
              "<table border=\"1\" class=\"dataframe\">\n",
              "  <thead>\n",
              "    <tr style=\"text-align: right;\">\n",
              "      <th></th>\n",
              "      <th>1</th>\n",
              "      <th>2</th>\n",
              "      <th>3</th>\n",
              "      <th>ans</th>\n",
              "      <th>pred</th>\n",
              "      <th>per</th>\n",
              "    </tr>\n",
              "  </thead>\n",
              "  <tbody>\n",
              "    <tr>\n",
              "      <th>0</th>\n",
              "      <td>Athens</td>\n",
              "      <td>Greece</td>\n",
              "      <td>Baghdad</td>\n",
              "      <td>Iraq</td>\n",
              "      <td>Iraqi</td>\n",
              "      <td>0.635187</td>\n",
              "    </tr>\n",
              "    <tr>\n",
              "      <th>1</th>\n",
              "      <td>Athens</td>\n",
              "      <td>Greece</td>\n",
              "      <td>Bangkok</td>\n",
              "      <td>Thailand</td>\n",
              "      <td>Thailand</td>\n",
              "      <td>0.713767</td>\n",
              "    </tr>\n",
              "    <tr>\n",
              "      <th>2</th>\n",
              "      <td>Athens</td>\n",
              "      <td>Greece</td>\n",
              "      <td>Beijing</td>\n",
              "      <td>China</td>\n",
              "      <td>China</td>\n",
              "      <td>0.723578</td>\n",
              "    </tr>\n",
              "    <tr>\n",
              "      <th>3</th>\n",
              "      <td>Athens</td>\n",
              "      <td>Greece</td>\n",
              "      <td>Berlin</td>\n",
              "      <td>Germany</td>\n",
              "      <td>Germany</td>\n",
              "      <td>0.673462</td>\n",
              "    </tr>\n",
              "    <tr>\n",
              "      <th>4</th>\n",
              "      <td>Athens</td>\n",
              "      <td>Greece</td>\n",
              "      <td>Bern</td>\n",
              "      <td>Switzerland</td>\n",
              "      <td>Switzerland</td>\n",
              "      <td>0.491975</td>\n",
              "    </tr>\n",
              "    <tr>\n",
              "      <th>...</th>\n",
              "      <td>...</td>\n",
              "      <td>...</td>\n",
              "      <td>...</td>\n",
              "      <td>...</td>\n",
              "      <td>...</td>\n",
              "      <td>...</td>\n",
              "    </tr>\n",
              "    <tr>\n",
              "      <th>19552</th>\n",
              "      <td>write</td>\n",
              "      <td>writes</td>\n",
              "      <td>talk</td>\n",
              "      <td>talks</td>\n",
              "      <td>talked</td>\n",
              "      <td>0.544719</td>\n",
              "    </tr>\n",
              "    <tr>\n",
              "      <th>19553</th>\n",
              "      <td>write</td>\n",
              "      <td>writes</td>\n",
              "      <td>think</td>\n",
              "      <td>thinks</td>\n",
              "      <td>thinks</td>\n",
              "      <td>0.617773</td>\n",
              "    </tr>\n",
              "    <tr>\n",
              "      <th>19554</th>\n",
              "      <td>write</td>\n",
              "      <td>writes</td>\n",
              "      <td>vanish</td>\n",
              "      <td>vanishes</td>\n",
              "      <td>disappear</td>\n",
              "      <td>0.600271</td>\n",
              "    </tr>\n",
              "    <tr>\n",
              "      <th>19555</th>\n",
              "      <td>write</td>\n",
              "      <td>writes</td>\n",
              "      <td>walk</td>\n",
              "      <td>walks</td>\n",
              "      <td>walks</td>\n",
              "      <td>0.553434</td>\n",
              "    </tr>\n",
              "    <tr>\n",
              "      <th>19556</th>\n",
              "      <td>write</td>\n",
              "      <td>writes</td>\n",
              "      <td>work</td>\n",
              "      <td>works</td>\n",
              "      <td>works</td>\n",
              "      <td>0.538761</td>\n",
              "    </tr>\n",
              "  </tbody>\n",
              "</table>\n",
              "<p>19557 rows × 6 columns</p>\n",
              "</div>"
            ],
            "text/plain": [
              "            1       2        3          ans         pred       per\n",
              "0      Athens  Greece  Baghdad         Iraq        Iraqi  0.635187\n",
              "1      Athens  Greece  Bangkok     Thailand     Thailand  0.713767\n",
              "2      Athens  Greece  Beijing        China        China  0.723578\n",
              "3      Athens  Greece   Berlin      Germany      Germany  0.673462\n",
              "4      Athens  Greece     Bern  Switzerland  Switzerland  0.491975\n",
              "...       ...     ...      ...          ...          ...       ...\n",
              "19552   write  writes     talk        talks       talked  0.544719\n",
              "19553   write  writes    think       thinks       thinks  0.617773\n",
              "19554   write  writes   vanish     vanishes    disappear  0.600271\n",
              "19555   write  writes     walk        walks        walks  0.553434\n",
              "19556   write  writes     work        works        works  0.538761\n",
              "\n",
              "[19557 rows x 6 columns]"
            ]
          },
          "metadata": {
            "tags": []
          },
          "execution_count": 54
        }
      ]
    },
    {
      "cell_type": "code",
      "metadata": {
        "id": "SL0f1zcKOhB_",
        "colab_type": "code",
        "outputId": "f172ae01-8bdb-4fe1-d9e8-a93e49ef2460",
        "colab": {
          "base_uri": "https://localhost:8080/",
          "height": 415
        }
      },
      "source": [
        "questions[8365:]"
      ],
      "execution_count": 0,
      "outputs": [
        {
          "output_type": "execute_result",
          "data": {
            "text/html": [
              "<div>\n",
              "<style scoped>\n",
              "    .dataframe tbody tr th:only-of-type {\n",
              "        vertical-align: middle;\n",
              "    }\n",
              "\n",
              "    .dataframe tbody tr th {\n",
              "        vertical-align: top;\n",
              "    }\n",
              "\n",
              "    .dataframe thead th {\n",
              "        text-align: right;\n",
              "    }\n",
              "</style>\n",
              "<table border=\"1\" class=\"dataframe\">\n",
              "  <thead>\n",
              "    <tr style=\"text-align: right;\">\n",
              "      <th></th>\n",
              "      <th>1</th>\n",
              "      <th>2</th>\n",
              "      <th>3</th>\n",
              "      <th>ans</th>\n",
              "      <th>pred</th>\n",
              "      <th>per</th>\n",
              "    </tr>\n",
              "  </thead>\n",
              "  <tbody>\n",
              "    <tr>\n",
              "      <th>8365</th>\n",
              "      <td>Worcester</td>\n",
              "      <td>Massachusetts</td>\n",
              "      <td>Cincinnati</td>\n",
              "      <td>Ohio</td>\n",
              "      <td>Ohio</td>\n",
              "      <td>0.627478</td>\n",
              "    </tr>\n",
              "    <tr>\n",
              "      <th>8366</th>\n",
              "      <td>:</td>\n",
              "      <td>family</td>\n",
              "      <td>NaN</td>\n",
              "      <td>NaN</td>\n",
              "      <td></td>\n",
              "      <td>0.000000</td>\n",
              "    </tr>\n",
              "    <tr>\n",
              "      <th>8367</th>\n",
              "      <td>boy</td>\n",
              "      <td>girl</td>\n",
              "      <td>brother</td>\n",
              "      <td>sister</td>\n",
              "      <td>sister</td>\n",
              "      <td>0.817728</td>\n",
              "    </tr>\n",
              "    <tr>\n",
              "      <th>8368</th>\n",
              "      <td>boy</td>\n",
              "      <td>girl</td>\n",
              "      <td>brothers</td>\n",
              "      <td>sisters</td>\n",
              "      <td>sisters</td>\n",
              "      <td>0.798579</td>\n",
              "    </tr>\n",
              "    <tr>\n",
              "      <th>8369</th>\n",
              "      <td>boy</td>\n",
              "      <td>girl</td>\n",
              "      <td>dad</td>\n",
              "      <td>mom</td>\n",
              "      <td>mom</td>\n",
              "      <td>0.778119</td>\n",
              "    </tr>\n",
              "    <tr>\n",
              "      <th>...</th>\n",
              "      <td>...</td>\n",
              "      <td>...</td>\n",
              "      <td>...</td>\n",
              "      <td>...</td>\n",
              "      <td>...</td>\n",
              "      <td>...</td>\n",
              "    </tr>\n",
              "    <tr>\n",
              "      <th>19552</th>\n",
              "      <td>write</td>\n",
              "      <td>writes</td>\n",
              "      <td>talk</td>\n",
              "      <td>talks</td>\n",
              "      <td>talked</td>\n",
              "      <td>0.544719</td>\n",
              "    </tr>\n",
              "    <tr>\n",
              "      <th>19553</th>\n",
              "      <td>write</td>\n",
              "      <td>writes</td>\n",
              "      <td>think</td>\n",
              "      <td>thinks</td>\n",
              "      <td>thinks</td>\n",
              "      <td>0.617773</td>\n",
              "    </tr>\n",
              "    <tr>\n",
              "      <th>19554</th>\n",
              "      <td>write</td>\n",
              "      <td>writes</td>\n",
              "      <td>vanish</td>\n",
              "      <td>vanishes</td>\n",
              "      <td>disappear</td>\n",
              "      <td>0.600271</td>\n",
              "    </tr>\n",
              "    <tr>\n",
              "      <th>19555</th>\n",
              "      <td>write</td>\n",
              "      <td>writes</td>\n",
              "      <td>walk</td>\n",
              "      <td>walks</td>\n",
              "      <td>walks</td>\n",
              "      <td>0.553434</td>\n",
              "    </tr>\n",
              "    <tr>\n",
              "      <th>19556</th>\n",
              "      <td>write</td>\n",
              "      <td>writes</td>\n",
              "      <td>work</td>\n",
              "      <td>works</td>\n",
              "      <td>works</td>\n",
              "      <td>0.538761</td>\n",
              "    </tr>\n",
              "  </tbody>\n",
              "</table>\n",
              "<p>11192 rows × 6 columns</p>\n",
              "</div>"
            ],
            "text/plain": [
              "               1              2           3       ans       pred       per\n",
              "8365   Worcester  Massachusetts  Cincinnati      Ohio       Ohio  0.627478\n",
              "8366           :         family         NaN       NaN             0.000000\n",
              "8367         boy           girl     brother    sister     sister  0.817728\n",
              "8368         boy           girl    brothers   sisters    sisters  0.798579\n",
              "8369         boy           girl         dad       mom        mom  0.778119\n",
              "...          ...            ...         ...       ...        ...       ...\n",
              "19552      write         writes        talk     talks     talked  0.544719\n",
              "19553      write         writes       think    thinks     thinks  0.617773\n",
              "19554      write         writes      vanish  vanishes  disappear  0.600271\n",
              "19555      write         writes        walk     walks      walks  0.553434\n",
              "19556      write         writes        work     works      works  0.538761\n",
              "\n",
              "[11192 rows x 6 columns]"
            ]
          },
          "metadata": {
            "tags": []
          },
          "execution_count": 70
        }
      ]
    },
    {
      "cell_type": "code",
      "metadata": {
        "id": "0zr6bPOYOtNY",
        "colab_type": "code",
        "outputId": "d0c34dd3-9020-40c1-f0b4-67465605f487",
        "colab": {
          "base_uri": "https://localhost:8080/",
          "height": 447
        }
      },
      "source": [
        "questions[questions['1'] == ':']"
      ],
      "execution_count": 0,
      "outputs": [
        {
          "output_type": "execute_result",
          "data": {
            "text/html": [
              "<div>\n",
              "<style scoped>\n",
              "    .dataframe tbody tr th:only-of-type {\n",
              "        vertical-align: middle;\n",
              "    }\n",
              "\n",
              "    .dataframe tbody tr th {\n",
              "        vertical-align: top;\n",
              "    }\n",
              "\n",
              "    .dataframe thead th {\n",
              "        text-align: right;\n",
              "    }\n",
              "</style>\n",
              "<table border=\"1\" class=\"dataframe\">\n",
              "  <thead>\n",
              "    <tr style=\"text-align: right;\">\n",
              "      <th></th>\n",
              "      <th>1</th>\n",
              "      <th>2</th>\n",
              "      <th>3</th>\n",
              "      <th>ans</th>\n",
              "      <th>pred</th>\n",
              "      <th>per</th>\n",
              "    </tr>\n",
              "  </thead>\n",
              "  <tbody>\n",
              "    <tr>\n",
              "      <th>506</th>\n",
              "      <td>:</td>\n",
              "      <td>capital-world</td>\n",
              "      <td>NaN</td>\n",
              "      <td>NaN</td>\n",
              "      <td></td>\n",
              "      <td>0.0</td>\n",
              "    </tr>\n",
              "    <tr>\n",
              "      <th>5031</th>\n",
              "      <td>:</td>\n",
              "      <td>currency</td>\n",
              "      <td>NaN</td>\n",
              "      <td>NaN</td>\n",
              "      <td></td>\n",
              "      <td>0.0</td>\n",
              "    </tr>\n",
              "    <tr>\n",
              "      <th>5898</th>\n",
              "      <td>:</td>\n",
              "      <td>city-in-state</td>\n",
              "      <td>NaN</td>\n",
              "      <td>NaN</td>\n",
              "      <td></td>\n",
              "      <td>0.0</td>\n",
              "    </tr>\n",
              "    <tr>\n",
              "      <th>8366</th>\n",
              "      <td>:</td>\n",
              "      <td>family</td>\n",
              "      <td>NaN</td>\n",
              "      <td>NaN</td>\n",
              "      <td></td>\n",
              "      <td>0.0</td>\n",
              "    </tr>\n",
              "    <tr>\n",
              "      <th>8873</th>\n",
              "      <td>:</td>\n",
              "      <td>gram1-adjective-to-adverb</td>\n",
              "      <td>NaN</td>\n",
              "      <td>NaN</td>\n",
              "      <td></td>\n",
              "      <td>0.0</td>\n",
              "    </tr>\n",
              "    <tr>\n",
              "      <th>9866</th>\n",
              "      <td>:</td>\n",
              "      <td>gram2-opposite</td>\n",
              "      <td>NaN</td>\n",
              "      <td>NaN</td>\n",
              "      <td></td>\n",
              "      <td>0.0</td>\n",
              "    </tr>\n",
              "    <tr>\n",
              "      <th>10679</th>\n",
              "      <td>:</td>\n",
              "      <td>gram3-comparative</td>\n",
              "      <td>NaN</td>\n",
              "      <td>NaN</td>\n",
              "      <td></td>\n",
              "      <td>0.0</td>\n",
              "    </tr>\n",
              "    <tr>\n",
              "      <th>12012</th>\n",
              "      <td>:</td>\n",
              "      <td>gram4-superlative</td>\n",
              "      <td>NaN</td>\n",
              "      <td>NaN</td>\n",
              "      <td></td>\n",
              "      <td>0.0</td>\n",
              "    </tr>\n",
              "    <tr>\n",
              "      <th>13135</th>\n",
              "      <td>:</td>\n",
              "      <td>gram5-present-participle</td>\n",
              "      <td>NaN</td>\n",
              "      <td>NaN</td>\n",
              "      <td></td>\n",
              "      <td>0.0</td>\n",
              "    </tr>\n",
              "    <tr>\n",
              "      <th>14192</th>\n",
              "      <td>:</td>\n",
              "      <td>gram6-nationality-adjective</td>\n",
              "      <td>NaN</td>\n",
              "      <td>NaN</td>\n",
              "      <td></td>\n",
              "      <td>0.0</td>\n",
              "    </tr>\n",
              "    <tr>\n",
              "      <th>15792</th>\n",
              "      <td>:</td>\n",
              "      <td>gram7-past-tense</td>\n",
              "      <td>NaN</td>\n",
              "      <td>NaN</td>\n",
              "      <td></td>\n",
              "      <td>0.0</td>\n",
              "    </tr>\n",
              "    <tr>\n",
              "      <th>17353</th>\n",
              "      <td>:</td>\n",
              "      <td>gram8-plural</td>\n",
              "      <td>NaN</td>\n",
              "      <td>NaN</td>\n",
              "      <td></td>\n",
              "      <td>0.0</td>\n",
              "    </tr>\n",
              "    <tr>\n",
              "      <th>18686</th>\n",
              "      <td>:</td>\n",
              "      <td>gram9-plural-verbs</td>\n",
              "      <td>NaN</td>\n",
              "      <td>NaN</td>\n",
              "      <td></td>\n",
              "      <td>0.0</td>\n",
              "    </tr>\n",
              "  </tbody>\n",
              "</table>\n",
              "</div>"
            ],
            "text/plain": [
              "       1                            2    3  ans pred  per\n",
              "506    :                capital-world  NaN  NaN       0.0\n",
              "5031   :                     currency  NaN  NaN       0.0\n",
              "5898   :                city-in-state  NaN  NaN       0.0\n",
              "8366   :                       family  NaN  NaN       0.0\n",
              "8873   :    gram1-adjective-to-adverb  NaN  NaN       0.0\n",
              "9866   :               gram2-opposite  NaN  NaN       0.0\n",
              "10679  :            gram3-comparative  NaN  NaN       0.0\n",
              "12012  :            gram4-superlative  NaN  NaN       0.0\n",
              "13135  :     gram5-present-participle  NaN  NaN       0.0\n",
              "14192  :  gram6-nationality-adjective  NaN  NaN       0.0\n",
              "15792  :             gram7-past-tense  NaN  NaN       0.0\n",
              "17353  :                 gram8-plural  NaN  NaN       0.0\n",
              "18686  :           gram9-plural-verbs  NaN  NaN       0.0"
            ]
          },
          "metadata": {
            "tags": []
          },
          "execution_count": 71
        }
      ]
    },
    {
      "cell_type": "code",
      "metadata": {
        "id": "67mEGWw9POT8",
        "colab_type": "code",
        "colab": {}
      },
      "source": [
        "sem = questions[:8873]\n",
        "syn = questions[8874:]"
      ],
      "execution_count": 0,
      "outputs": []
    },
    {
      "cell_type": "code",
      "metadata": {
        "id": "yZ4_KSojPhv5",
        "colab_type": "code",
        "colab": {}
      },
      "source": [
        "sem = sem[sem['1'] != ':']\n",
        "syn = syn[syn['1'] != ':']"
      ],
      "execution_count": 0,
      "outputs": []
    },
    {
      "cell_type": "code",
      "metadata": {
        "id": "3vxu4q2lPko0",
        "colab_type": "code",
        "outputId": "4a402681-65d9-4ab5-8cac-038c8028b0b1",
        "colab": {
          "base_uri": "https://localhost:8080/",
          "height": 53
        }
      },
      "source": [
        "print(\"semantic:\", sum(sem['ans'] == sem['pred']) / sem.shape[0])\n",
        "print(\"syntactic:\", sum(syn['ans'] == syn['pred']) / syn.shape[0])"
      ],
      "execution_count": 0,
      "outputs": [
        {
          "output_type": "stream",
          "text": [
            "semantic: 0.7305220430713721\n",
            "syntactic: 0.7400468384074942\n"
          ],
          "name": "stdout"
        }
      ]
    },
    {
      "cell_type": "markdown",
      "metadata": {
        "id": "1HTY_1qyQPAp",
        "colab_type": "text"
      },
      "source": [
        "## 66"
      ]
    },
    {
      "cell_type": "code",
      "metadata": {
        "id": "3pwMd8HgSPR_",
        "colab_type": "code",
        "colab": {}
      },
      "source": [
        "from scipy.stats import spearmanr\n",
        "import matplotlib.pyplot as plt"
      ],
      "execution_count": 0,
      "outputs": []
    },
    {
      "cell_type": "code",
      "metadata": {
        "id": "-8ggNC3tPuLt",
        "colab_type": "code",
        "outputId": "930d0448-d888-4574-8be5-b2efa894566c",
        "colab": {
          "base_uri": "https://localhost:8080/",
          "height": 215
        }
      },
      "source": [
        "!wget http://www.gabrilovich.com/resources/data/wordsim353/wordsim353.zip"
      ],
      "execution_count": 0,
      "outputs": [
        {
          "output_type": "stream",
          "text": [
            "--2020-04-16 13:50:10--  http://www.gabrilovich.com/resources/data/wordsim353/wordsim353.zip\n",
            "Resolving www.gabrilovich.com (www.gabrilovich.com)... 208.97.177.37\n",
            "Connecting to www.gabrilovich.com (www.gabrilovich.com)|208.97.177.37|:80... connected.\n",
            "HTTP request sent, awaiting response... 200 OK\n",
            "Length: 23257 (23K) [application/zip]\n",
            "Saving to: ‘wordsim353.zip’\n",
            "\n",
            "\rwordsim353.zip        0%[                    ]       0  --.-KB/s               \rwordsim353.zip      100%[===================>]  22.71K  --.-KB/s    in 0.01s   \n",
            "\n",
            "2020-04-16 13:50:11 (1.70 MB/s) - ‘wordsim353.zip’ saved [23257/23257]\n",
            "\n"
          ],
          "name": "stdout"
        }
      ]
    },
    {
      "cell_type": "code",
      "metadata": {
        "id": "CwA-FIKZQQhP",
        "colab_type": "code",
        "outputId": "1c49aae9-24e1-4603-840f-aec659468f3f",
        "colab": {
          "base_uri": "https://localhost:8080/",
          "height": 161
        }
      },
      "source": [
        "! unzip wordsim353.zip"
      ],
      "execution_count": 0,
      "outputs": [
        {
          "output_type": "stream",
          "text": [
            "Archive:  wordsim353.zip\n",
            "  inflating: combined.csv            \n",
            "  inflating: set1.csv                \n",
            "  inflating: set2.csv                \n",
            "  inflating: combined.tab            \n",
            "  inflating: set1.tab                \n",
            "  inflating: set2.tab                \n",
            "  inflating: instructions.txt        \n"
          ],
          "name": "stdout"
        }
      ]
    },
    {
      "cell_type": "code",
      "metadata": {
        "id": "W4Y3nXkJQTdM",
        "colab_type": "code",
        "colab": {}
      },
      "source": [
        "set1 = pd.read_csv('set1.csv')"
      ],
      "execution_count": 0,
      "outputs": []
    },
    {
      "cell_type": "code",
      "metadata": {
        "id": "f8flxOxrQv8Q",
        "colab_type": "code",
        "outputId": "d9733a4b-8224-4b6e-f713-314104f821d5",
        "colab": {
          "base_uri": "https://localhost:8080/",
          "height": 73
        }
      },
      "source": [
        "sims = [0 for _ in range(set1.shape[0])]\n",
        "for i, row in set1.iterrows():\n",
        "  sims[i] = model.similarity(row[\"Word 1\"], row[\"Word 2\"])\n",
        "  "
      ],
      "execution_count": 0,
      "outputs": [
        {
          "output_type": "stream",
          "text": [
            "/usr/local/lib/python3.6/dist-packages/gensim/matutils.py:737: FutureWarning: Conversion of the second argument of issubdtype from `int` to `np.signedinteger` is deprecated. In future, it will be treated as `np.int64 == np.dtype(int).type`.\n",
            "  if np.issubdtype(vec.dtype, np.int):\n"
          ],
          "name": "stderr"
        }
      ]
    },
    {
      "cell_type": "code",
      "metadata": {
        "id": "BtOBSpvFQ0RR",
        "colab_type": "code",
        "colab": {}
      },
      "source": [
        "set1['similarity'] = sims"
      ],
      "execution_count": 0,
      "outputs": []
    },
    {
      "cell_type": "code",
      "metadata": {
        "id": "jMUNfZB7RR11",
        "colab_type": "code",
        "colab": {}
      },
      "source": [
        "human_rank = set1.sort_values('Human (mean)', ascending=False).index"
      ],
      "execution_count": 0,
      "outputs": []
    },
    {
      "cell_type": "code",
      "metadata": {
        "id": "kBK2y_ZrRYAT",
        "colab_type": "code",
        "colab": {}
      },
      "source": [
        "model_rank = set1.sort_values('similarity', ascending=False).index"
      ],
      "execution_count": 0,
      "outputs": []
    },
    {
      "cell_type": "code",
      "metadata": {
        "id": "AwMESBYFRl_R",
        "colab_type": "code",
        "outputId": "f8cdb7f7-09f0-4004-a891-71c6ffb05394",
        "colab": {
          "base_uri": "https://localhost:8080/",
          "height": 35
        }
      },
      "source": [
        "spearmanr(human_rank, model_rank)"
      ],
      "execution_count": 0,
      "outputs": [
        {
          "output_type": "execute_result",
          "data": {
            "text/plain": [
              "SpearmanrResult(correlation=-0.07207524157988554, pvalue=0.3759611595577209)"
            ]
          },
          "metadata": {
            "tags": []
          },
          "execution_count": 103
        }
      ]
    },
    {
      "cell_type": "markdown",
      "metadata": {
        "id": "1PufQWM3kd3S",
        "colab_type": "text"
      },
      "source": [
        "あまり芳しくはなさそう…？"
      ]
    },
    {
      "cell_type": "code",
      "metadata": {
        "id": "bX08c9kiR2aD",
        "colab_type": "code",
        "outputId": "2b949f4e-4c0f-44f2-8e95-1408c5414c1f",
        "colab": {
          "base_uri": "https://localhost:8080/",
          "height": 89
        }
      },
      "source": [
        "human_rank"
      ],
      "execution_count": 0,
      "outputs": [
        {
          "output_type": "execute_result",
          "data": {
            "text/plain": [
              "Int64Index([ 2, 40, 73, 68, 31, 70, 97, 98, 42, 72,\n",
              "            ...\n",
              "            22, 23, 89, 27, 91, 95, 92, 94, 32, 33],\n",
              "           dtype='int64', length=153)"
            ]
          },
          "metadata": {
            "tags": []
          },
          "execution_count": 105
        }
      ]
    },
    {
      "cell_type": "code",
      "metadata": {
        "id": "Y8T7zjS6SXl2",
        "colab_type": "code",
        "outputId": "a7ae3898-b07a-4abb-9358-b2d390448068",
        "colab": {
          "base_uri": "https://localhost:8080/",
          "height": 89
        }
      },
      "source": [
        "model_rank"
      ],
      "execution_count": 0,
      "outputs": [
        {
          "output_type": "execute_result",
          "data": {
            "text/plain": [
              "Int64Index([  2,  42,  59,  68,  43,  37,  34,  12,  38, 131,\n",
              "            ...\n",
              "            101,  26,  93,  23, 146, 144, 138,  80,  94, 136],\n",
              "           dtype='int64', length=153)"
            ]
          },
          "metadata": {
            "tags": []
          },
          "execution_count": 106
        }
      ]
    },
    {
      "cell_type": "code",
      "metadata": {
        "id": "4tnfGRQPSzsv",
        "colab_type": "code",
        "outputId": "8804dd88-5fff-4279-941d-1001ba08d2b5",
        "colab": {
          "base_uri": "https://localhost:8080/",
          "height": 287
        }
      },
      "source": [
        "plt.scatter(set1.rank(ascending=False)['Human (mean)'], set1.rank(ascending=False)['similarity'])"
      ],
      "execution_count": 0,
      "outputs": [
        {
          "output_type": "execute_result",
          "data": {
            "text/plain": [
              "<matplotlib.collections.PathCollection at 0x7fec42cf8080>"
            ]
          },
          "metadata": {
            "tags": []
          },
          "execution_count": 116
        },
        {
          "output_type": "display_data",
          "data": {
            "image/png": "[encoded data removed]",
            "text/plain": [
              "<Figure size 432x288 with 1 Axes>"
            ]
          },
          "metadata": {
            "tags": [],
            "needs_background": "light"
          }
        }
      ]
    },
    {
      "cell_type": "markdown",
      "metadata": {
        "id": "brxXVinFTvOt",
        "colab_type": "text"
      },
      "source": [
        "微妙"
      ]
    },
    {
      "cell_type": "markdown",
      "metadata": {
        "id": "LYMtClY-TwMj",
        "colab_type": "text"
      },
      "source": [
        "## 67"
      ]
    },
    {
      "cell_type": "markdown",
      "metadata": {
        "id": "G08zKLJskJ39",
        "colab_type": "text"
      },
      "source": [
        "Geopandas つかう\n",
        "\n",
        "https://geopandas.org/index.html"
      ]
    },
    {
      "cell_type": "markdown",
      "metadata": {
        "id": "ihvMQZufVlHv",
        "colab_type": "text"
      },
      "source": [
        "さっきの質問リストから国名もらう"
      ]
    },
    {
      "cell_type": "code",
      "metadata": {
        "id": "wN6hb2w7WwlB",
        "colab_type": "code",
        "colab": {}
      },
      "source": [
        "from sklearn.cluster import KMeans"
      ],
      "execution_count": 0,
      "outputs": []
    },
    {
      "cell_type": "code",
      "metadata": {
        "id": "as2l9xukTZxs",
        "colab_type": "code",
        "colab": {}
      },
      "source": [
        "aaa = questions[:5031]\n",
        "aaa = aaa[aaa['1'] != \":\"]"
      ],
      "execution_count": 0,
      "outputs": []
    },
    {
      "cell_type": "code",
      "metadata": {
        "id": "x1J2jEfDVXxa",
        "colab_type": "code",
        "colab": {}
      },
      "source": [
        "countries = aaa['2'].unique()"
      ],
      "execution_count": 0,
      "outputs": []
    },
    {
      "cell_type": "code",
      "metadata": {
        "id": "_70CpYuxVg42",
        "colab_type": "code",
        "colab": {}
      },
      "source": [
        "country_vectors = [model[c] for c in countries]"
      ],
      "execution_count": 0,
      "outputs": []
    },
    {
      "cell_type": "code",
      "metadata": {
        "id": "_E-pRjwuWyGR",
        "colab_type": "code",
        "colab": {}
      },
      "source": [
        "pred = KMeans(n_clusters=5).fit_predict(country_vectors)"
      ],
      "execution_count": 0,
      "outputs": []
    },
    {
      "cell_type": "markdown",
      "metadata": {
        "id": "wg4PUeA75epW",
        "colab_type": "text"
      },
      "source": [
        "↓これが国の分類"
      ]
    },
    {
      "cell_type": "code",
      "metadata": {
        "id": "PkKb3A5BXcl5",
        "colab_type": "code",
        "outputId": "9aa0a017-c7d5-45e3-b534-d0a757bf2fd7",
        "colab": {
          "base_uri": "https://localhost:8080/",
          "height": 125
        }
      },
      "source": [
        "pred"
      ],
      "execution_count": 0,
      "outputs": [
        {
          "output_type": "execute_result",
          "data": {
            "text/plain": [
              "array([3, 2, 1, 1, 3, 3, 2, 1, 1, 1, 3, 2, 2, 3, 3, 0, 3, 1, 3, 3, 3, 2,\n",
              "       1, 4, 4, 2, 2, 0, 4, 1, 0, 2, 0, 0, 4, 4, 2, 3, 1, 0, 3, 3, 3, 3,\n",
              "       4, 1, 0, 4, 3, 4, 2, 1, 2, 3, 0, 1, 4, 1, 4, 1, 4, 1, 2, 0, 4, 1,\n",
              "       4, 4, 1, 3, 3, 4, 4, 1, 2, 1, 4, 0, 2, 4, 3, 2, 4, 1, 4, 3, 2, 1,\n",
              "       1, 3, 1, 2, 3, 1, 1, 3, 3, 1, 1, 3, 0, 0, 1, 1, 3, 2, 2, 3, 3, 3,\n",
              "       1, 3, 3, 4, 0, 3], dtype=int32)"
            ]
          },
          "metadata": {
            "tags": []
          },
          "execution_count": 132
        }
      ]
    },
    {
      "cell_type": "markdown",
      "metadata": {
        "id": "WWnM7ODz5hZs",
        "colab_type": "text"
      },
      "source": [
        "どうせだから世界地図にプロットしたい\n",
        "Geopandasってパッケージでできそう"
      ]
    },
    {
      "cell_type": "code",
      "metadata": {
        "id": "6BZwaEMRXky6",
        "colab_type": "code",
        "colab": {}
      },
      "source": [
        "res = pd.DataFrame()\n",
        "res['country'] = countries\n",
        "res['group'] = pred"
      ],
      "execution_count": 0,
      "outputs": []
    },
    {
      "cell_type": "code",
      "metadata": {
        "id": "h2319pjybsqj",
        "colab_type": "code",
        "colab": {}
      },
      "source": [
        "import geopandas as gpd"
      ],
      "execution_count": 0,
      "outputs": []
    },
    {
      "cell_type": "code",
      "metadata": {
        "id": "yNZn7M43bvxz",
        "colab_type": "code",
        "colab": {}
      },
      "source": [
        "world = geopandas.read_file(geopandas.datasets.get_path('naturalearth_lowres'))"
      ],
      "execution_count": 0,
      "outputs": []
    },
    {
      "cell_type": "code",
      "metadata": {
        "id": "wlnJ9qXcekHJ",
        "colab_type": "code",
        "outputId": "34141a4b-8283-4a72-9c1d-268d6cb50aa2",
        "colab": {
          "base_uri": "https://localhost:8080/",
          "height": 195
        }
      },
      "source": [
        "world.cx[:, -50:].plot()"
      ],
      "execution_count": 0,
      "outputs": [
        {
          "output_type": "execute_result",
          "data": {
            "text/plain": [
              "<matplotlib.axes._subplots.AxesSubplot at 0x7fec346eb160>"
            ]
          },
          "metadata": {
            "tags": []
          },
          "execution_count": 169
        },
        {
          "output_type": "display_data",
          "data": {
            "image/png": "[encoded data removed]",
            "text/plain": [
              "<Figure size 432x288 with 1 Axes>"
            ]
          },
          "metadata": {
            "tags": [],
            "needs_background": "light"
          }
        }
      ]
    },
    {
      "cell_type": "code",
      "metadata": {
        "id": "KHo7it4bdeY5",
        "colab_type": "code",
        "colab": {}
      },
      "source": [
        "tworld = world[(world.pop_est>0) & (world.name!=\"Antarctica\")]"
      ],
      "execution_count": 0,
      "outputs": []
    },
    {
      "cell_type": "code",
      "metadata": {
        "id": "8p3QFlE6eH_K",
        "colab_type": "code",
        "colab": {}
      },
      "source": [
        "geo_cs = set(tworld.name)"
      ],
      "execution_count": 0,
      "outputs": []
    },
    {
      "cell_type": "code",
      "metadata": {
        "id": "g8FACGK2iouq",
        "colab_type": "code",
        "outputId": "cef454c2-2b8c-47ff-b7bd-a204fd4ffa73",
        "colab": {
          "base_uri": "https://localhost:8080/",
          "height": 145
        }
      },
      "source": [
        "tworld['cluster'] = 0"
      ],
      "execution_count": 0,
      "outputs": [
        {
          "output_type": "stream",
          "text": [
            "/usr/local/lib/python3.6/dist-packages/ipykernel_launcher.py:1: SettingWithCopyWarning: \n",
            "A value is trying to be set on a copy of a slice from a DataFrame.\n",
            "Try using .loc[row_indexer,col_indexer] = value instead\n",
            "\n",
            "See the caveats in the documentation: https://pandas.pydata.org/pandas-docs/stable/user_guide/indexing.html#returning-a-view-versus-a-copy\n",
            "  \"\"\"Entry point for launching an IPython kernel.\n"
          ],
          "name": "stderr"
        }
      ]
    },
    {
      "cell_type": "code",
      "metadata": {
        "id": "G-Hmsl3lfm2l",
        "colab_type": "code",
        "outputId": "383188a2-3b76-4582-9b0d-37dbddbe84e0",
        "colab": {
          "base_uri": "https://localhost:8080/",
          "height": 217
        }
      },
      "source": [
        "for i, row in tworld.iterrows():\n",
        "  if not row['name'] in set(res.country):\n",
        "    continue\n",
        "  res_address = res[res['country'] == row['name']].index\n",
        "  tworld['cluster'][i] = res['group'][res_address] + 1"
      ],
      "execution_count": 0,
      "outputs": [
        {
          "output_type": "stream",
          "text": [
            "/usr/local/lib/python3.6/dist-packages/ipykernel_launcher.py:5: SettingWithCopyWarning: \n",
            "A value is trying to be set on a copy of a slice from a DataFrame\n",
            "\n",
            "See the caveats in the documentation: https://pandas.pydata.org/pandas-docs/stable/user_guide/indexing.html#returning-a-view-versus-a-copy\n",
            "  \"\"\"\n",
            "/usr/local/lib/python3.6/dist-packages/IPython/core/interactiveshell.py:2882: SettingWithCopyWarning: \n",
            "A value is trying to be set on a copy of a slice from a DataFrame\n",
            "\n",
            "See the caveats in the documentation: https://pandas.pydata.org/pandas-docs/stable/user_guide/indexing.html#returning-a-view-versus-a-copy\n",
            "  exec(code_obj, self.user_global_ns, self.user_ns)\n"
          ],
          "name": "stderr"
        }
      ]
    },
    {
      "cell_type": "code",
      "metadata": {
        "id": "m5wzbOTpjlmr",
        "colab_type": "code",
        "outputId": "50cd053d-e4b8-46a0-8319-a9577e14bec2",
        "colab": {
          "base_uri": "https://localhost:8080/",
          "height": 589
        }
      },
      "source": [
        "tworld"
      ],
      "execution_count": 0,
      "outputs": [
        {
          "output_type": "execute_result",
          "data": {
            "text/html": [
              "<div>\n",
              "<style scoped>\n",
              "    .dataframe tbody tr th:only-of-type {\n",
              "        vertical-align: middle;\n",
              "    }\n",
              "\n",
              "    .dataframe tbody tr th {\n",
              "        vertical-align: top;\n",
              "    }\n",
              "\n",
              "    .dataframe thead th {\n",
              "        text-align: right;\n",
              "    }\n",
              "</style>\n",
              "<table border=\"1\" class=\"dataframe\">\n",
              "  <thead>\n",
              "    <tr style=\"text-align: right;\">\n",
              "      <th></th>\n",
              "      <th>pop_est</th>\n",
              "      <th>continent</th>\n",
              "      <th>name</th>\n",
              "      <th>iso_a3</th>\n",
              "      <th>gdp_md_est</th>\n",
              "      <th>geometry</th>\n",
              "      <th>cluster</th>\n",
              "    </tr>\n",
              "  </thead>\n",
              "  <tbody>\n",
              "    <tr>\n",
              "      <th>0</th>\n",
              "      <td>920938</td>\n",
              "      <td>Oceania</td>\n",
              "      <td>Fiji</td>\n",
              "      <td>FJI</td>\n",
              "      <td>8374.0</td>\n",
              "      <td>MULTIPOLYGON (((180.00000 -16.06713, 180.00000...</td>\n",
              "      <td>2</td>\n",
              "    </tr>\n",
              "    <tr>\n",
              "      <th>1</th>\n",
              "      <td>53950935</td>\n",
              "      <td>Africa</td>\n",
              "      <td>Tanzania</td>\n",
              "      <td>TZA</td>\n",
              "      <td>150600.0</td>\n",
              "      <td>POLYGON ((33.90371 -0.95000, 34.07262 -1.05982...</td>\n",
              "      <td>0</td>\n",
              "    </tr>\n",
              "    <tr>\n",
              "      <th>2</th>\n",
              "      <td>603253</td>\n",
              "      <td>Africa</td>\n",
              "      <td>W. Sahara</td>\n",
              "      <td>ESH</td>\n",
              "      <td>906.5</td>\n",
              "      <td>POLYGON ((-8.66559 27.65643, -8.66512 27.58948...</td>\n",
              "      <td>0</td>\n",
              "    </tr>\n",
              "    <tr>\n",
              "      <th>3</th>\n",
              "      <td>35623680</td>\n",
              "      <td>North America</td>\n",
              "      <td>Canada</td>\n",
              "      <td>CAN</td>\n",
              "      <td>1674000.0</td>\n",
              "      <td>MULTIPOLYGON (((-122.84000 49.00000, -122.9742...</td>\n",
              "      <td>2</td>\n",
              "    </tr>\n",
              "    <tr>\n",
              "      <th>4</th>\n",
              "      <td>326625791</td>\n",
              "      <td>North America</td>\n",
              "      <td>United States of America</td>\n",
              "      <td>USA</td>\n",
              "      <td>18560000.0</td>\n",
              "      <td>MULTIPOLYGON (((-122.84000 49.00000, -120.0000...</td>\n",
              "      <td>0</td>\n",
              "    </tr>\n",
              "    <tr>\n",
              "      <th>...</th>\n",
              "      <td>...</td>\n",
              "      <td>...</td>\n",
              "      <td>...</td>\n",
              "      <td>...</td>\n",
              "      <td>...</td>\n",
              "      <td>...</td>\n",
              "      <td>...</td>\n",
              "    </tr>\n",
              "    <tr>\n",
              "      <th>172</th>\n",
              "      <td>7111024</td>\n",
              "      <td>Europe</td>\n",
              "      <td>Serbia</td>\n",
              "      <td>SRB</td>\n",
              "      <td>101800.0</td>\n",
              "      <td>POLYGON ((18.82982 45.90887, 18.82984 45.90888...</td>\n",
              "      <td>4</td>\n",
              "    </tr>\n",
              "    <tr>\n",
              "      <th>173</th>\n",
              "      <td>642550</td>\n",
              "      <td>Europe</td>\n",
              "      <td>Montenegro</td>\n",
              "      <td>MNE</td>\n",
              "      <td>10610.0</td>\n",
              "      <td>POLYGON ((20.07070 42.58863, 19.80161 42.50009...</td>\n",
              "      <td>4</td>\n",
              "    </tr>\n",
              "    <tr>\n",
              "      <th>174</th>\n",
              "      <td>1895250</td>\n",
              "      <td>Europe</td>\n",
              "      <td>Kosovo</td>\n",
              "      <td>-99</td>\n",
              "      <td>18490.0</td>\n",
              "      <td>POLYGON ((20.59025 41.85541, 20.52295 42.21787...</td>\n",
              "      <td>0</td>\n",
              "    </tr>\n",
              "    <tr>\n",
              "      <th>175</th>\n",
              "      <td>1218208</td>\n",
              "      <td>North America</td>\n",
              "      <td>Trinidad and Tobago</td>\n",
              "      <td>TTO</td>\n",
              "      <td>43570.0</td>\n",
              "      <td>POLYGON ((-61.68000 10.76000, -61.10500 10.890...</td>\n",
              "      <td>0</td>\n",
              "    </tr>\n",
              "    <tr>\n",
              "      <th>176</th>\n",
              "      <td>13026129</td>\n",
              "      <td>Africa</td>\n",
              "      <td>S. Sudan</td>\n",
              "      <td>SSD</td>\n",
              "      <td>20880.0</td>\n",
              "      <td>POLYGON ((30.83385 3.50917, 29.95350 4.17370, ...</td>\n",
              "      <td>0</td>\n",
              "    </tr>\n",
              "  </tbody>\n",
              "</table>\n",
              "<p>176 rows × 7 columns</p>\n",
              "</div>"
            ],
            "text/plain": [
              "       pop_est  ... cluster\n",
              "0       920938  ...       2\n",
              "1     53950935  ...       0\n",
              "2       603253  ...       0\n",
              "3     35623680  ...       2\n",
              "4    326625791  ...       0\n",
              "..         ...  ...     ...\n",
              "172    7111024  ...       4\n",
              "173     642550  ...       4\n",
              "174    1895250  ...       0\n",
              "175    1218208  ...       0\n",
              "176   13026129  ...       0\n",
              "\n",
              "[176 rows x 7 columns]"
            ]
          },
          "metadata": {
            "tags": []
          },
          "execution_count": 227
        }
      ]
    },
    {
      "cell_type": "code",
      "metadata": {
        "id": "OaX5t1xPhj8c",
        "colab_type": "code",
        "outputId": "cc1044e6-f180-44ce-d0a0-40bd87fe213d",
        "colab": {
          "base_uri": "https://localhost:8080/",
          "height": 381
        }
      },
      "source": [
        "tworld.plot(column='cluster', figsize=(15,10))"
      ],
      "execution_count": 0,
      "outputs": [
        {
          "output_type": "execute_result",
          "data": {
            "text/plain": [
              "<matplotlib.axes._subplots.AxesSubplot at 0x7fec34170588>"
            ]
          },
          "metadata": {
            "tags": []
          },
          "execution_count": 228
        },
        {
          "output_type": "display_data",
          "data": {
            "image/png": "[encoded data removed]",
            "text/plain": [
              "<Figure size 1080x720 with 1 Axes>"
            ]
          },
          "metadata": {
            "tags": [],
            "needs_background": "light"
          }
        }
      ]
    },
    {
      "cell_type": "markdown",
      "metadata": {
        "id": "cmKKRgbZjyDU",
        "colab_type": "text"
      },
      "source": [
        "結構まとまってる（ヨーロッパ、中東、アフリカ、旧ソ連、太平洋沿岸？）アメリカとかイギリスは表記ゆれしてとれていない  "
      ]
    },
    {
      "cell_type": "markdown",
      "metadata": {
        "id": "LkzoXmfdj4z5",
        "colab_type": "text"
      },
      "source": [
        "いまさらになって思えばgeopandasの国名からベクトルを検索すればよかったな？（もう疲れたのでやらないが）"
      ]
    },
    {
      "cell_type": "markdown",
      "metadata": {
        "id": "KORvqhhvkCsi",
        "colab_type": "text"
      },
      "source": [
        "## 69"
      ]
    },
    {
      "cell_type": "code",
      "metadata": {
        "id": "ZDr1pd6XhpAh",
        "colab_type": "code",
        "colab": {}
      },
      "source": [
        "from sklearn.manifold import TSNE"
      ],
      "execution_count": 0,
      "outputs": []
    },
    {
      "cell_type": "code",
      "metadata": {
        "id": "5B4HvzsK3edX",
        "colab_type": "code",
        "colab": {}
      },
      "source": [
        "country_embedded = TSNE(n_components=2).fit_transform(country_vectors)"
      ],
      "execution_count": 0,
      "outputs": []
    },
    {
      "cell_type": "code",
      "metadata": {
        "id": "CSx5s4G05uYl",
        "colab_type": "code",
        "colab": {}
      },
      "source": [
        "kouho = ['indianred', 'slateblue', 'goldenrod', 'plum', 'darkturquoise']\n",
        "colors = list(map(lambda x: kouho[x], pred))"
      ],
      "execution_count": 0,
      "outputs": []
    },
    {
      "cell_type": "code",
      "metadata": {
        "id": "nQbq5sp06aUo",
        "colab_type": "code",
        "outputId": "aef8fddb-d1e0-4ed3-acdb-955d90e0ff4f",
        "colab": {
          "base_uri": "https://localhost:8080/",
          "height": 283
        }
      },
      "source": [
        "plt.scatter(country_embedded[:, 0], country_embedded[:, 1], c=colors)"
      ],
      "execution_count": 0,
      "outputs": [
        {
          "output_type": "execute_result",
          "data": {
            "text/plain": [
              "<matplotlib.collections.PathCollection at 0x7fec33512630>"
            ]
          },
          "metadata": {
            "tags": []
          },
          "execution_count": 270
        },
        {
          "output_type": "display_data",
          "data": {
            "image/png": "[encoded data removed]",
            "text/plain": [
              "<Figure size 432x288 with 1 Axes>"
            ]
          },
          "metadata": {
            "tags": [],
            "needs_background": "light"
          }
        }
      ]
    },
    {
      "cell_type": "markdown",
      "metadata": {
        "id": "aiooYCWY684u",
        "colab_type": "text"
      },
      "source": [
        "ちなみに\n",
        "- 赤: 旧ソ連\n",
        "- 紺: 環太平洋\n",
        "- 黄: 中東\n",
        "- 紫: ヨーロッパ\n",
        "- 水: アフリカ\n",
        "\n"
      ]
    },
    {
      "cell_type": "markdown",
      "metadata": {
        "id": "nMBBGD568k2o",
        "colab_type": "text"
      },
      "source": [
        ""
      ]
    },
    {
      "cell_type": "code",
      "metadata": {
        "id": "jmBv5e_a6yhT",
        "colab_type": "code",
        "colab": {}
      },
      "source": [
        "tsne_c = pd.DataFrame()"
      ],
      "execution_count": 0,
      "outputs": []
    },
    {
      "cell_type": "code",
      "metadata": {
        "id": "3geuc3F28D1R",
        "colab_type": "code",
        "colab": {}
      },
      "source": [
        "tsne_c['countries'] = countries\n",
        "tsne_c['group'] = pred\n",
        "tsne_c['x'] = country_embedded[:, 0]\n",
        "tsne_c['y'] = country_embedded[:, 1]"
      ],
      "execution_count": 0,
      "outputs": []
    },
    {
      "cell_type": "code",
      "metadata": {
        "id": "r16u_x3D8Rnd",
        "colab_type": "code",
        "outputId": "fc6cc97a-d9ca-482b-e88d-104bc65d23f7",
        "colab": {
          "base_uri": "https://localhost:8080/",
          "height": 202
        }
      },
      "source": [
        "tsne_c[(tsne_c['group'] == 1) & (tsne_c['x'] > 7.5)].head()"
      ],
      "execution_count": 0,
      "outputs": [
        {
          "output_type": "execute_result",
          "data": {
            "text/html": [
              "<div>\n",
              "<style scoped>\n",
              "    .dataframe tbody tr th:only-of-type {\n",
              "        vertical-align: middle;\n",
              "    }\n",
              "\n",
              "    .dataframe tbody tr th {\n",
              "        vertical-align: top;\n",
              "    }\n",
              "\n",
              "    .dataframe thead th {\n",
              "        text-align: right;\n",
              "    }\n",
              "</style>\n",
              "<table border=\"1\" class=\"dataframe\">\n",
              "  <thead>\n",
              "    <tr style=\"text-align: right;\">\n",
              "      <th></th>\n",
              "      <th>countries</th>\n",
              "      <th>group</th>\n",
              "      <th>x</th>\n",
              "      <th>y</th>\n",
              "    </tr>\n",
              "  </thead>\n",
              "  <tbody>\n",
              "    <tr>\n",
              "      <th>38</th>\n",
              "      <td>Belize</td>\n",
              "      <td>1</td>\n",
              "      <td>13.757473</td>\n",
              "      <td>6.445186</td>\n",
              "    </tr>\n",
              "    <tr>\n",
              "      <th>51</th>\n",
              "      <td>Bangladesh</td>\n",
              "      <td>1</td>\n",
              "      <td>11.673543</td>\n",
              "      <td>-0.094122</td>\n",
              "    </tr>\n",
              "    <tr>\n",
              "      <th>57</th>\n",
              "      <td>Guyana</td>\n",
              "      <td>1</td>\n",
              "      <td>12.311383</td>\n",
              "      <td>6.052643</td>\n",
              "    </tr>\n",
              "    <tr>\n",
              "      <th>61</th>\n",
              "      <td>Nepal</td>\n",
              "      <td>1</td>\n",
              "      <td>13.157491</td>\n",
              "      <td>1.165703</td>\n",
              "    </tr>\n",
              "    <tr>\n",
              "      <th>65</th>\n",
              "      <td>Jamaica</td>\n",
              "      <td>1</td>\n",
              "      <td>12.975641</td>\n",
              "      <td>6.411508</td>\n",
              "    </tr>\n",
              "  </tbody>\n",
              "</table>\n",
              "</div>"
            ],
            "text/plain": [
              "     countries  group          x         y\n",
              "38      Belize      1  13.757473  6.445186\n",
              "51  Bangladesh      1  11.673543 -0.094122\n",
              "57      Guyana      1  12.311383  6.052643\n",
              "61       Nepal      1  13.157491  1.165703\n",
              "65     Jamaica      1  12.975641  6.411508"
            ]
          },
          "metadata": {
            "tags": []
          },
          "execution_count": 288
        }
      ]
    },
    {
      "cell_type": "code",
      "metadata": {
        "id": "ot6LpKVn9H4D",
        "colab_type": "code",
        "outputId": "c739b0db-c602-4fdf-e432-44281a39ac20",
        "colab": {
          "base_uri": "https://localhost:8080/",
          "height": 202
        }
      },
      "source": [
        "tsne_c[(tsne_c['group'] == 1) & (tsne_c['x'] <= 7.5)].head()"
      ],
      "execution_count": 0,
      "outputs": [
        {
          "output_type": "execute_result",
          "data": {
            "text/html": [
              "<div>\n",
              "<style scoped>\n",
              "    .dataframe tbody tr th:only-of-type {\n",
              "        vertical-align: middle;\n",
              "    }\n",
              "\n",
              "    .dataframe tbody tr th {\n",
              "        vertical-align: top;\n",
              "    }\n",
              "\n",
              "    .dataframe thead th {\n",
              "        text-align: right;\n",
              "    }\n",
              "</style>\n",
              "<table border=\"1\" class=\"dataframe\">\n",
              "  <thead>\n",
              "    <tr style=\"text-align: right;\">\n",
              "      <th></th>\n",
              "      <th>countries</th>\n",
              "      <th>group</th>\n",
              "      <th>x</th>\n",
              "      <th>y</th>\n",
              "    </tr>\n",
              "  </thead>\n",
              "  <tbody>\n",
              "    <tr>\n",
              "      <th>2</th>\n",
              "      <td>Thailand</td>\n",
              "      <td>1</td>\n",
              "      <td>-0.014791</td>\n",
              "      <td>5.867301</td>\n",
              "    </tr>\n",
              "    <tr>\n",
              "      <th>3</th>\n",
              "      <td>China</td>\n",
              "      <td>1</td>\n",
              "      <td>-1.321360</td>\n",
              "      <td>4.268858</td>\n",
              "    </tr>\n",
              "    <tr>\n",
              "      <th>7</th>\n",
              "      <td>Australia</td>\n",
              "      <td>1</td>\n",
              "      <td>0.940901</td>\n",
              "      <td>3.675133</td>\n",
              "    </tr>\n",
              "    <tr>\n",
              "      <th>8</th>\n",
              "      <td>Vietnam</td>\n",
              "      <td>1</td>\n",
              "      <td>-1.279136</td>\n",
              "      <td>6.402838</td>\n",
              "    </tr>\n",
              "    <tr>\n",
              "      <th>9</th>\n",
              "      <td>Cuba</td>\n",
              "      <td>1</td>\n",
              "      <td>3.700349</td>\n",
              "      <td>7.155117</td>\n",
              "    </tr>\n",
              "  </tbody>\n",
              "</table>\n",
              "</div>"
            ],
            "text/plain": [
              "   countries  group         x         y\n",
              "2   Thailand      1 -0.014791  5.867301\n",
              "3      China      1 -1.321360  4.268858\n",
              "7  Australia      1  0.940901  3.675133\n",
              "8    Vietnam      1 -1.279136  6.402838\n",
              "9       Cuba      1  3.700349  7.155117"
            ]
          },
          "metadata": {
            "tags": []
          },
          "execution_count": 290
        }
      ]
    },
    {
      "cell_type": "markdown",
      "metadata": {
        "id": "BP0RQNqm9aSW",
        "colab_type": "text"
      },
      "source": [
        "経済的に豊かな国はxが小さめに出てそう（環太平洋の分かれている二つの部分）"
      ]
    },
    {
      "cell_type": "code",
      "metadata": {
        "id": "tyiKm0nC9W5m",
        "colab_type": "code",
        "colab": {}
      },
      "source": [
        "countries_us = countries + ['US']"
      ],
      "execution_count": 0,
      "outputs": []
    },
    {
      "cell_type": "code",
      "metadata": {
        "id": "5R6SQovf9u6d",
        "colab_type": "code",
        "outputId": "51af8302-77fe-473d-a1b0-858331481264",
        "colab": {
          "base_uri": "https://localhost:8080/",
          "height": 467
        }
      },
      "source": [
        "countries_us"
      ],
      "execution_count": 0,
      "outputs": [
        {
          "output_type": "execute_result",
          "data": {
            "text/plain": [
              "array(['GreeceUS', 'IraqUS', 'ThailandUS', 'ChinaUS', 'GermanyUS',\n",
              "       'SwitzerlandUS', 'EgyptUS', 'AustraliaUS', 'VietnamUS', 'CubaUS',\n",
              "       'FinlandUS', 'PakistanUS', 'AfghanistanUS', 'EnglandUS', 'SpainUS',\n",
              "       'RussiaUS', 'NorwayUS', 'CanadaUS', 'FranceUS', 'ItalyUS',\n",
              "       'SwedenUS', 'IranUS', 'JapanUS', 'NigeriaUS', 'GhanaUS',\n",
              "       'AlgeriaUS', 'JordanUS', 'TurkeyUS', 'MadagascarUS', 'SamoaUS',\n",
              "       'TurkmenistanUS', 'EritreaUS', 'KazakhstanUS', 'AzerbaijanUS',\n",
              "       'MaliUS', 'GambiaUS', 'LebanonUS', 'SerbiaUS', 'BelizeUS',\n",
              "       'KyrgyzstanUS', 'SlovakiaUS', 'BelgiumUS', 'RomaniaUS',\n",
              "       'HungaryUS', 'BurundiUS', 'VenezuelaUS', 'MoldovaUS', 'GuineaUS',\n",
              "       'DenmarkUS', 'SenegalUS', 'SyriaUS', 'BangladeshUS', 'QatarUS',\n",
              "       'IrelandUS', 'TajikistanUS', 'TuvaluUS', 'BotswanaUS', 'GuyanaUS',\n",
              "       'ZimbabweUS', 'IndonesiaUS', 'UgandaUS', 'NepalUS', 'SudanUS',\n",
              "       'UkraineUS', 'RwandaUS', 'JamaicaUS', 'GabonUS', 'MalawiUS',\n",
              "       'PeruUS', 'PortugalUS', 'SloveniaUS', 'AngolaUS', 'ZambiaUS',\n",
              "       'NicaraguaUS', 'BahrainUS', 'PhilippinesUS', 'MozambiqueUS',\n",
              "       'BelarusUS', 'SomaliaUS', 'LiberiaUS', 'UruguayUS', 'OmanUS',\n",
              "       'KenyaUS', 'BahamasUS', 'NigerUS', 'CyprusUS', 'MauritaniaUS',\n",
              "       'GreenlandUS', 'SurinameUS', 'MontenegroUS', 'EcuadorUS',\n",
              "       'MoroccoUS', 'LatviaUS', 'DominicaUS', 'ChileUS', 'MacedoniaUS',\n",
              "       'BulgariaUS', 'FijiUS', 'TaiwanUS', 'EstoniaUS', 'UzbekistanUS',\n",
              "       'GeorgiaUS', 'HondurasUS', 'BhutanUS', 'AlbaniaUS', 'LibyaUS',\n",
              "       'TunisiaUS', 'LiechtensteinUS', 'MaltaUS', 'AustriaUS', 'LaosUS',\n",
              "       'LithuaniaUS', 'PolandUS', 'NamibiaUS', 'ArmeniaUS', 'CroatiaUS'],\n",
              "      dtype=object)"
            ]
          },
          "metadata": {
            "tags": []
          },
          "execution_count": 292
        }
      ]
    },
    {
      "cell_type": "markdown",
      "metadata": {
        "id": "Hy2FDhGn93VM",
        "colab_type": "text"
      },
      "source": [
        "ちゃう"
      ]
    },
    {
      "cell_type": "code",
      "metadata": {
        "id": "Ahp7M6yU93w1",
        "colab_type": "code",
        "colab": {}
      },
      "source": [
        "country_vectors.append(model['United_States'])"
      ],
      "execution_count": 0,
      "outputs": []
    },
    {
      "cell_type": "code",
      "metadata": {
        "id": "kmxS2-Dx-Chc",
        "colab_type": "code",
        "colab": {}
      },
      "source": [
        "countries_us = np.append(countries, 'US')"
      ],
      "execution_count": 0,
      "outputs": []
    },
    {
      "cell_type": "code",
      "metadata": {
        "id": "ynpRVMgW-TuN",
        "colab_type": "code",
        "outputId": "e604e074-08e9-406d-c59d-153ed9c550e6",
        "colab": {
          "base_uri": "https://localhost:8080/",
          "height": 35
        }
      },
      "source": [
        "countries_us.shape"
      ],
      "execution_count": 0,
      "outputs": [
        {
          "output_type": "execute_result",
          "data": {
            "text/plain": [
              "(117,)"
            ]
          },
          "metadata": {
            "tags": []
          },
          "execution_count": 297
        }
      ]
    },
    {
      "cell_type": "code",
      "metadata": {
        "id": "BqsTZG9i-Wvy",
        "colab_type": "code",
        "outputId": "b9c9ff16-5479-427d-d1c6-7959f22dfcdf",
        "colab": {
          "base_uri": "https://localhost:8080/",
          "height": 35
        }
      },
      "source": [
        "len(country_vectors)"
      ],
      "execution_count": 0,
      "outputs": [
        {
          "output_type": "execute_result",
          "data": {
            "text/plain": [
              "117"
            ]
          },
          "metadata": {
            "tags": []
          },
          "execution_count": 299
        }
      ]
    },
    {
      "cell_type": "code",
      "metadata": {
        "id": "CpyB5T_K-acC",
        "colab_type": "code",
        "colab": {}
      },
      "source": [
        "country_embedded = TSNE(n_components=2).fit_transform(country_vectors)"
      ],
      "execution_count": 0,
      "outputs": []
    },
    {
      "cell_type": "code",
      "metadata": {
        "id": "iSesnRzl-e7X",
        "colab_type": "code",
        "outputId": "60d27eae-bb07-47c5-9da3-9286abcb506f",
        "colab": {
          "base_uri": "https://localhost:8080/",
          "height": 283
        }
      },
      "source": [
        "plt.scatter(country_embedded[:, 0], country_embedded[:, 1], c=colors + ['black'])"
      ],
      "execution_count": 0,
      "outputs": [
        {
          "output_type": "execute_result",
          "data": {
            "text/plain": [
              "<matplotlib.collections.PathCollection at 0x7fec334a36d8>"
            ]
          },
          "metadata": {
            "tags": []
          },
          "execution_count": 301
        },
        {
          "output_type": "display_data",
          "data": {
            "image/png": "[encoded data removed]",
            "text/plain": [
              "<Figure size 432x288 with 1 Axes>"
            ]
          },
          "metadata": {
            "tags": [],
            "needs_background": "light"
          }
        }
      ]
    },
    {
      "cell_type": "markdown",
      "metadata": {
        "id": "k9ENTJuq-pso",
        "colab_type": "text"
      },
      "source": [
        "なんかさっきと違う…？やる度に結構変わりそう  \n",
        "アメリカは環太平洋とヨーロッパの境目あたり（直感的だ）"
      ]
    },
    {
      "cell_type": "code",
      "metadata": {
        "id": "RtS-tSfW-l37",
        "colab_type": "code",
        "colab": {}
      },
      "source": [
        ""
      ],
      "execution_count": 0,
      "outputs": []
    }
  ]
}